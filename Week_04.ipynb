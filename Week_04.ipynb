{
 "cells": [
  {
   "cell_type": "code",
   "execution_count": 2,
   "metadata": {},
   "outputs": [
    {
     "name": "stdout",
     "output_type": "stream",
     "text": [
      "[45, 67, 8, 9, 78]\n",
      "[56, 67, 8, 9, 78]\n",
      "[56, 67, 8, 9, 78]\n",
      "[56, 67, 8, 9, 78]\n"
     ]
    }
   ],
   "source": [
    "data = [45,67,8,9,78]\n",
    "print(data)\n",
    "data[0] = 56\n",
    "print(data)\n",
    "data_copy = data[:]\n",
    "print(data_copy)\n",
    "data_copy1 = data.copy()\n",
    "print(data_copy1)"
   ]
  },
  {
   "cell_type": "code",
   "execution_count": 1,
   "metadata": {},
   "outputs": [
    {
     "name": "stdout",
     "output_type": "stream",
     "text": [
      "Value: 0\n",
      "Value: 1\n",
      "Value: 2\n",
      "Value: 3\n",
      "Value: 4\n",
      "Letter: J\n",
      "Letter: o\n",
      "Letter: h\n",
      "Letter: n\n"
     ]
    }
   ],
   "source": [
    "#for loop\n",
    "for num in range(5):\n",
    "    print('Value: {}'.format(num))\n",
    "name = 'John'\n",
    "for letter in name:\n",
    "    print('Letter: {}'.format(letter))"
   ]
  },
  {
   "cell_type": "code",
   "execution_count": 2,
   "metadata": {},
   "outputs": [
    {
     "name": "stdout",
     "output_type": "stream",
     "text": [
      "2\n",
      "4\n",
      "6\n",
      "8\n",
      "0\n",
      "1\n",
      "2\n",
      "4\n",
      "0\n",
      "1\n",
      "2\n"
     ]
    }
   ],
   "source": [
    "for num in range(2,10,2):\n",
    "    print(num)\n",
    "for num in range(5):\n",
    "    if num == 3:\n",
    "        continue\n",
    "    print(num)   \n",
    "for num in range(5):\n",
    "    if num == 3:\n",
    "        break\n",
    "    print(num)   "
   ]
  },
  {
   "cell_type": "code",
   "execution_count": 17,
   "metadata": {},
   "outputs": [
    {
     "name": "stdout",
     "output_type": "stream",
     "text": [
      "3\n",
      "6\n",
      "9\n",
      "eo\n"
     ]
    }
   ],
   "source": [
    "for num in range(1,10,1):\n",
    "    if num%3==0:\n",
    "        print(num)\n",
    "\n",
    "word = input('Enter a word: ')\n",
    "vowels = ['a','e','i','o','u']\n",
    "inword = []\n",
    "for letter in word:\n",
    "    if letter in vowels:\n",
    "        inword.append(letter)\n",
    "print(\"\".join(inword))"
   ]
  },
  {
   "cell_type": "markdown",
   "metadata": {},
   "source": [
    "While loop"
   ]
  },
  {
   "cell_type": "code",
   "execution_count": 10,
   "metadata": {},
   "outputs": [
    {
     "name": "stdout",
     "output_type": "stream",
     "text": [
      "10\n",
      "9\n",
      "8\n",
      "7\n",
      "6\n",
      "5\n",
      "4\n",
      "3\n",
      "2\n",
      "1\n"
     ]
    }
   ],
   "source": [
    "health = 10\n",
    "while health > 0:\n",
    "    print(health)\n",
    "    health -= 1"
   ]
  },
  {
   "cell_type": "code",
   "execution_count": 11,
   "metadata": {},
   "outputs": [
    {
     "name": "stdout",
     "output_type": "stream",
     "text": [
      "0 0\n",
      "0 1\n",
      "0 2\n",
      "1 0\n",
      "1 1\n",
      "1 2\n"
     ]
    }
   ],
   "source": [
    "for i in range(2):\n",
    "    for j in range(3):\n",
    "        print(i,j)"
   ]
  },
  {
   "cell_type": "code",
   "execution_count": 2,
   "metadata": {},
   "outputs": [
    {
     "name": "stdout",
     "output_type": "stream",
     "text": [
      "[1, 2]\n",
      "[2, 3]\n",
      "[1, 3, 5, 7, 9]\n",
      "[9, 10]\n",
      "[1, 2, 3, 4, 5, 6, 7, 8, 9, 10, 11]\n",
      "['Leak', 'Bleak', 'Sleak']\n",
      "Empty\n",
      "basketball\n",
      "soccer\n",
      "baseball\n",
      "cricket\n",
      "tennis\n"
     ]
    }
   ],
   "source": [
    "nums = [1,2,3,4,5,6,7,8,9,10]\n",
    "print(nums[:2])\n",
    "print(nums[1:3])\n",
    "print(nums[::2])\n",
    "print(nums[-2:])\n",
    "nums.append(11)\n",
    "print(nums)\n",
    "\n",
    "words = ['Bleak','Sleak']\n",
    "words.insert(0,'Leak')\n",
    "print(words)\n",
    "\n",
    "content = []\n",
    "if not content:\n",
    "    print('Empty')\n",
    "\n",
    "sports = ['soccer','basketball','baseball','cricket','tennis']\n",
    "print(sports.pop(1))\n",
    "for sport in sports:\n",
    "    print(sport)"
   ]
  },
  {
   "cell_type": "code",
   "execution_count": 2,
   "metadata": {},
   "outputs": [
    {
     "name": "stdout",
     "output_type": "stream",
     "text": [
      "['Bob', 'Kenny', 'Amanda']\n"
     ]
    }
   ],
   "source": [
    "names = ['Bob', 'Kenny', 'Amanda', 'Bob', 'Kenny']\n",
    "result = []\n",
    "for name in names:\n",
    "    if name not in result:\n",
    "        result.append(name)\n",
    "print(result)"
   ]
  },
  {
   "cell_type": "code",
   "execution_count": 18,
   "metadata": {},
   "outputs": [],
   "source": [
    "ans = input('Enter a word: ').lower()\n",
    "while ans != 'quit':\n",
    "    ans = input('Enter another word: ')"
   ]
  },
  {
   "cell_type": "code",
   "execution_count": 19,
   "metadata": {},
   "outputs": [
    {
     "name": "stdout",
     "output_type": "stream",
     "text": [
      "0\n",
      "1\n",
      "2\n"
     ]
    }
   ],
   "source": [
    "game_over  = False\n",
    "while not game_over:\n",
    "    for i in range(5):\n",
    "        if i == 3:\n",
    "            game_over = True\n",
    "            break\n",
    "        print(i)\n"
   ]
  },
  {
   "cell_type": "code",
   "execution_count": 22,
   "metadata": {},
   "outputs": [
    {
     "name": "stdout",
     "output_type": "stream",
     "text": [
      "55\n",
      "10\n",
      "1\n",
      "5.5\n",
      "5.5\n"
     ]
    }
   ],
   "source": [
    "nums = [1,2,3,4,5,6,7,8,9,10]\n",
    "print(sum(nums))\n",
    "print(max(nums))\n",
    "print(min(nums))\n",
    "print(sum(nums)/len(nums))\n",
    "def mean(aList):\n",
    "    return sum(aList)/len(aList)\n",
    "print(mean(nums))"
   ]
  },
  {
   "cell_type": "code",
   "execution_count": 12,
   "metadata": {},
   "outputs": [
    {
     "name": "stdout",
     "output_type": "stream",
     "text": [
      "[1, 2, 3, 5, 6, 7, 8]\n",
      "[1, 2, 3, 4, 5, 6, 7, 8]\n"
     ]
    }
   ],
   "source": [
    "num = [8,6,7,2,5,1,3]\n",
    "num.sort()\n",
    "print(num)\n",
    "num.insert(3,4)\n",
    "print(num)"
   ]
  },
  {
   "cell_type": "markdown",
   "metadata": {},
   "source": [
    "Friday: Creating the hangman"
   ]
  },
  {
   "cell_type": "code",
   "execution_count": 1,
   "metadata": {},
   "outputs": [
    {
     "name": "stdout",
     "output_type": "stream",
     "text": [
      "You guessed correctly\n",
      "Congratulations, You guessed it correctly\n"
     ]
    }
   ],
   "source": [
    "#Important imports\n",
    "from random import choice\n",
    "from IPython.display import clear_output\n",
    "from words import words\n",
    "word = choice(words)\n",
    "guessed, lives, game_over = [],7, False\n",
    "guesses = ['-']*len(word)\n",
    "\n",
    "#the game loop\n",
    "while not game_over:\n",
    "    hidden_word = \" \".join(guesses)\n",
    "    print('Your guessed letters: {}'.format(guessed))\n",
    "    print(\"Word to guess: {}\".format(hidden_word))\n",
    "    print(\"Lives: {}\".format(lives))\n",
    "    ans = input('Type quit or guess a letter: ').lower()\n",
    "    clear_output()\n",
    "    if ans == 'quit':\n",
    "        print('Thanks for playing')\n",
    "        game_over = True\n",
    "    elif ans in word and ans not in guessed:\n",
    "        print('You guessed correctly')\n",
    "        for i in range(len(word)):\n",
    "            if word[i] == ans:\n",
    "                guesses[i] = ans\n",
    "    elif ans in guessed:\n",
    "        print('You already guessed that, try again')\n",
    "    else:\n",
    "        lives -= 1\n",
    "        print('Incorrect!, You lost a life')\n",
    "        if ans not in guessed:\n",
    "            guessed.append(ans)\n",
    "    if lives <= 0:\n",
    "        print('You lost all your lives, you lost!')\n",
    "        game_over = True\n",
    "    elif word == \"\".join(guesses):\n",
    "        print('Congratulations, You guessed it correctly')\n",
    "        game_over = True    "
   ]
  },
  {
   "cell_type": "markdown",
   "metadata": {},
   "source": [
    "Pyramids"
   ]
  },
  {
   "cell_type": "code",
   "execution_count": 3,
   "metadata": {},
   "outputs": [
    {
     "name": "stdout",
     "output_type": "stream",
     "text": [
      "\n",
      "x\n",
      "xx\n",
      "xxx\n"
     ]
    }
   ],
   "source": [
    "for i in range(4):\n",
    "    print(\"x\"*i)"
   ]
  },
  {
   "cell_type": "code",
   "execution_count": 11,
   "metadata": {},
   "outputs": [
    {
     "name": "stdout",
     "output_type": "stream",
     "text": [
      "['John', 'Amanda']\n"
     ]
    }
   ],
   "source": [
    "names = ['John', ' ', 'Amanda', 5]\n",
    "nam = []\n",
    "for name in names:\n",
    "    try:\n",
    "        if len(name) > 1:\n",
    "            nam.append(name)\n",
    "    except:\n",
    "        break\n",
    "print(nam)"
   ]
  },
  {
   "cell_type": "code",
   "execution_count": 15,
   "metadata": {},
   "outputs": [
    {
     "name": "stdout",
     "output_type": "stream",
     "text": [
      "[89.6, 53.6, 111.2, 84.2]\n"
     ]
    }
   ],
   "source": [
    "temps = [32, 12, 44, 29]\n",
    "fahr = []\n",
    "for i in temps:\n",
    "    result = (9/5)*i + 32\n",
    "    fahr.append(result)\n",
    "print(fahr)\n",
    "#Fahr = [(9/5)*x + 32 for x in temps]\n",
    "#print(Fahr)"
   ]
  }
 ],
 "metadata": {
  "interpreter": {
   "hash": "5d240ba0dc525c389faa33f5dcce5b4f32b6d6aa6d70d6d2dd929bd2b09ab69f"
  },
  "kernelspec": {
   "display_name": "Python 3.10.0 64-bit",
   "language": "python",
   "name": "python3"
  },
  "language_info": {
   "codemirror_mode": {
    "name": "ipython",
    "version": 3
   },
   "file_extension": ".py",
   "mimetype": "text/x-python",
   "name": "python",
   "nbconvert_exporter": "python",
   "pygments_lexer": "ipython3",
   "version": "3.8.10"
  },
  "orig_nbformat": 4
 },
 "nbformat": 4,
 "nbformat_minor": 2
}
