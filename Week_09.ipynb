{
 "cells": [
  {
   "cell_type": "markdown",
   "metadata": {},
   "source": [
    "Generators and Iterators"
   ]
  },
  {
   "cell_type": "code",
   "execution_count": 1,
   "metadata": {},
   "outputs": [
    {
     "name": "stdout",
     "output_type": "stream",
     "text": [
      "baseball\n",
      "basketball\n",
      "soccer\n",
      "rugby\n"
     ]
    }
   ],
   "source": [
    "#a basic iterator\n",
    "sports = ['baseball','basketball','soccer','rugby']\n",
    "my_iter = iter(sports)\n",
    "print(next(my_iter))\n",
    "print(next(my_iter))\n",
    "for item in my_iter:\n",
    "    print(item)"
   ]
  },
  {
   "cell_type": "code",
   "execution_count": 7,
   "metadata": {},
   "outputs": [
    {
     "name": "stdout",
     "output_type": "stream",
     "text": [
      "A a\n",
      "B b\n",
      "C c\n",
      "D d\n",
      "E e\n",
      "F f\n",
      "G g\n",
      "H h\n",
      "I i\n",
      "J j\n",
      "K k\n",
      "L l\n",
      "M m\n",
      "N n\n",
      "O o\n",
      "P p\n",
      "Q q\n",
      "R r\n",
      "S s\n",
      "T t\n",
      "U u\n",
      "V v\n",
      "W w\n",
      "X x\n",
      "Y y\n",
      "Z z\n"
     ]
    }
   ],
   "source": [
    "#my own iterator\n",
    "class Alphabet():\n",
    "    def __iter__(self):\n",
    "        self.letters = 'abcdefghijklmnopqrstuvwxyz'\n",
    "        self.index = 0\n",
    "        return self\n",
    "    def __next__(self):\n",
    "        if self.index <= 25:\n",
    "            char = self.letters[self.index]\n",
    "            self.index += 1\n",
    "            return char\n",
    "        else:\n",
    "            raise StopIteration\n",
    "for char in Alphabet():\n",
    "    print(\"{} {}\".format(char.upper(), char))"
   ]
  },
  {
   "cell_type": "code",
   "execution_count": 13,
   "metadata": {},
   "outputs": [
    {
     "name": "stdout",
     "output_type": "stream",
     "text": [
      "Generator start value: 0\n",
      "For Loop X value: 0\n",
      "Generator start value: 1\n",
      "For Loop X value: 1\n",
      "Generator start value: 2\n",
      "For Loop X value: 2\n",
      "Generator start value: 3\n",
      "For Loop X value: 3\n",
      "Generator start value: 4\n",
      "For Loop X value: 4\n"
     ]
    }
   ],
   "source": [
    "#a range generator\n",
    "def myRange(stop, start=0, step=1):\n",
    "    while start < stop:\n",
    "        print('Generator start value: {}'.format(start))\n",
    "        yield start\n",
    "        start += step\n",
    "for x in myRange(5):\n",
    "    print('For Loop X value: {}'.format(x))"
   ]
  },
  {
   "cell_type": "code",
   "execution_count": 35,
   "metadata": {},
   "outputs": [
    {
     "name": "stdout",
     "output_type": "stream",
     "text": [
      "[10, 9, 8, 7, 6, 5, 4, 3, 2, 1]\n",
      "trebla\n"
     ]
    }
   ],
   "source": [
    "#creating a reverse iter\n",
    "class RevIter():\n",
    "    def __init__(self, a):\n",
    "        self.nums = a\n",
    "    def __iter__(self):\n",
    "        self.nums = self.nums[::-1]\n",
    "        self.index = 0\n",
    "        return self\n",
    "    def __next__(self):\n",
    "        if self.index < len(self.nums):\n",
    "            num = self.nums[self.index]\n",
    "            self.index += 1\n",
    "            return num\n",
    "        else:\n",
    "            raise StopIteration\n",
    "nums = [1,2,3,4,5,6,7,8,9,10]\n",
    "result = []\n",
    "name = \"albert\"\n",
    "nam = []\n",
    "for num in RevIter(nums):\n",
    "    result.append(num)\n",
    "print(result)\n",
    "for letter in RevIter(name):\n",
    "    nam.append(letter)\n",
    "    \n",
    "print(\"\".join(nam))\n",
    "        "
   ]
  },
  {
   "cell_type": "code",
   "execution_count": 22,
   "metadata": {},
   "outputs": [
    {
     "name": "stdout",
     "output_type": "stream",
     "text": [
      "0\n",
      "1\n",
      "4\n",
      "9\n",
      "16\n"
     ]
    }
   ],
   "source": [
    "#squares generator\n",
    "def sqRange(stop, start=0, step=1):\n",
    "    while start <= stop:\n",
    "        yield start**2\n",
    "        start += step\n",
    "for i in sqRange(4):\n",
    "    print(i)"
   ]
  },
  {
   "cell_type": "markdown",
   "metadata": {},
   "source": [
    "Decorators"
   ]
  },
  {
   "cell_type": "code",
   "execution_count": 23,
   "metadata": {},
   "outputs": [
    {
     "name": "stdout",
     "output_type": "stream",
     "text": [
      "======\n",
      "John\n",
      "======\n"
     ]
    }
   ],
   "source": [
    "#own decorator\n",
    "def decor(func):\n",
    "    def wrap():\n",
    "        print(\"======\")\n",
    "        func()\n",
    "        print(\"======\")\n",
    "    return wrap\n",
    "@decor\n",
    "def printName():\n",
    "    print('John')\n",
    "printName()"
   ]
  },
  {
   "cell_type": "code",
   "execution_count": 24,
   "metadata": {},
   "outputs": [
    {
     "name": "stdout",
     "output_type": "stream",
     "text": [
      "Hello\n",
      "Hello\n",
      "Hello\n",
      "Hello\n"
     ]
    }
   ],
   "source": [
    "from functools import wraps\n",
    "#decorators with parameters\n",
    "def run_times(num):\n",
    "    def wrap(func):\n",
    "        for i in range(num):\n",
    "            func()\n",
    "    return wrap\n",
    "@run_times(4)\n",
    "def sayHello():\n",
    "    print('Hello')"
   ]
  },
  {
   "cell_type": "code",
   "execution_count": 12,
   "metadata": {},
   "outputs": [],
   "source": [
    "from functools import wraps\n",
    "#functions with decorators and parameters\n",
    "def birthday(func):\n",
    "    @wraps\n",
    "    def wrapper(*args, **kwargs):\n",
    "        print(\"Inside the wrapper|\")\n",
    "        return func(*args,**kwargs)\n",
    "    return wrapper\n",
    "\n",
    "\n",
    "@birthday\n",
    "def celebrate(name, age):\n",
    "    print('Happy Birthday {}, you are now {}'.format(name, age))\n",
    "# celebrate('Skitzo', 23)"
   ]
  },
  {
   "cell_type": "code",
   "execution_count": 30,
   "metadata": {},
   "outputs": [
    {
     "name": "stdout",
     "output_type": "stream",
     "text": [
      "Access granted, welcome Bandit\n"
     ]
    }
   ],
   "source": [
    "#restricting function access\n",
    "def login_required(func):\n",
    "    def wrap(user):\n",
    "        password = input('What is the password?')\n",
    "        if password == user['password']:\n",
    "            func(user)\n",
    "        else:\n",
    "            print('Access Denied')\n",
    "    return wrap\n",
    "@login_required\n",
    "def restrictedFunc(user):\n",
    "    print(\"Access granted, welcome {}\".format(user[\"name\"]))\n",
    "user = {\"name\":\"Bandit\",\"password\":\"lieber\"}\n",
    "restrictedFunc(user)"
   ]
  },
  {
   "cell_type": "code",
   "execution_count": 25,
   "metadata": {},
   "outputs": [
    {
     "name": "stdout",
     "output_type": "stream",
     "text": [
      "34\n",
      "Less than 100\n"
     ]
    }
   ],
   "source": [
    "def decor(func):\n",
    "    def wrap():\n",
    "        num = int(input(\"Enter a number:\"))\n",
    "        if num < 100:\n",
    "            print(num)\n",
    "            func()\n",
    "        else:\n",
    "            print(\"Greater than 100\")\n",
    "    return wrap\n",
    "@decor\n",
    "def numbers():\n",
    "    print(\"Less than 100\")\n",
    "numbers()"
   ]
  },
  {
   "cell_type": "code",
   "execution_count": 43,
   "metadata": {},
   "outputs": [
    {
     "name": "stdout",
     "output_type": "stream",
     "text": [
      "/index\n",
      "This is how web pages are made in flask\n"
     ]
    }
   ],
   "source": [
    "def route(string):\n",
    "    def wrap(func):\n",
    "        print(string)\n",
    "        func()\n",
    "    return wrap\n",
    "@route(\"/index\")\n",
    "def index():\n",
    "    print(\"This is how web pages are made in flask\")"
   ]
  },
  {
   "cell_type": "markdown",
   "metadata": {},
   "source": [
    "Modules"
   ]
  },
  {
   "cell_type": "code",
   "execution_count": 45,
   "metadata": {},
   "outputs": [
    {
     "name": "stdout",
     "output_type": "stream",
     "text": [
      "3\n",
      "2\n",
      "3.141592653589793\n"
     ]
    }
   ],
   "source": [
    "#importing the math module\n",
    "import math\n",
    "print(math.ceil(2.5))\n",
    "print(math.floor(2.7))\n",
    "print(math.pi)"
   ]
  },
  {
   "cell_type": "code",
   "execution_count": 48,
   "metadata": {},
   "outputs": [
    {
     "name": "stdout",
     "output_type": "stream",
     "text": [
      "3.141592653589793\n",
      "2\n"
     ]
    }
   ],
   "source": [
    "from math import pi, floor\n",
    "print(pi)\n",
    "print(floor(2.5))"
   ]
  },
  {
   "cell_type": "code",
   "execution_count": 49,
   "metadata": {},
   "outputs": [
    {
     "name": "stdout",
     "output_type": "stream",
     "text": [
      "2\n"
     ]
    }
   ],
   "source": [
    "#using an alias\n",
    "from math import floor as f\n",
    "print(f(2.7))"
   ]
  },
  {
   "cell_type": "code",
   "execution_count": 52,
   "metadata": {},
   "outputs": [
    {
     "name": "stdout",
     "output_type": "stream",
     "text": [
      "15 20\n",
      "John Wick is 24 years old\n"
     ]
    }
   ],
   "source": [
    "from test import length, width, printInfo\n",
    "print(length, width)\n",
    "printInfo(\"John Wick\", 24)"
   ]
  },
  {
   "cell_type": "code",
   "execution_count": 54,
   "metadata": {},
   "outputs": [
    {
     "name": "stdout",
     "output_type": "stream",
     "text": [
      "Time module imported\n"
     ]
    }
   ],
   "source": [
    "from time import sleep\n",
    "sleep(5)\n",
    "print(\"Time module imported\")"
   ]
  },
  {
   "cell_type": "code",
   "execution_count": 55,
   "metadata": {},
   "outputs": [
    {
     "data": {
      "text/plain": [
       "450"
      ]
     },
     "execution_count": 55,
     "metadata": {},
     "output_type": "execute_result"
    }
   ],
   "source": [
    "from calculation import calcArea\n",
    "calcArea(15,30)"
   ]
  },
  {
   "cell_type": "markdown",
   "metadata": {},
   "source": [
    "Understanding Alogrithmic Complexity"
   ]
  },
  {
   "cell_type": "code",
   "execution_count": 57,
   "metadata": {},
   "outputs": [
    {
     "name": "stdout",
     "output_type": "stream",
     "text": [
      "-2337501642640670908 -2337501642640670908 4498346656330297789\n"
     ]
    }
   ],
   "source": [
    "a,c = \"bo\",\"bob\"\n",
    "b = a\n",
    "print(hash(a),hash(b),hash(c))"
   ]
  },
  {
   "cell_type": "code",
   "execution_count": 20,
   "metadata": {},
   "outputs": [
    {
     "name": "stdout",
     "output_type": "stream",
     "text": [
      "Found in dictionary\n",
      "Elapsed time for dictionary: 0.012540102005004883\n",
      "Found in list\n",
      "Elapsed time for list: 0.32093286514282227\n"
     ]
    }
   ],
   "source": [
    "#dictionaries vs lists\n",
    "import time\n",
    "d = {}\n",
    "for i in range(10000000):\n",
    "    d[i] = \"value\"\n",
    "big_list = [x for x in range(10000000)]\n",
    "start_time = time.time()\n",
    "if 9999999 in d:\n",
    "    print(\"Found in dictionary\")\n",
    "end_time = time.time() - start_time\n",
    "print(\"Elapsed time for dictionary: {}\".format(end_time))\n",
    "start_time = time.time()\n",
    "if 9999999 in big_list:\n",
    "    print(\"Found in list\")\n",
    "end_time = time.time() - start_time\n",
    "print(\"Elapsed time for list: {}\".format(end_time))"
   ]
  },
  {
   "cell_type": "code",
   "execution_count": 7,
   "metadata": {},
   "outputs": [
    {
     "name": "stdout",
     "output_type": "stream",
     "text": [
      "Elapsed time for bubble sort algo: 0.004999876022338867\n",
      "Elapsed time for insertion sort algo: 3.0785973072052\n"
     ]
    }
   ],
   "source": [
    "#bubble sort vs insertion sort\n",
    "#Bubble Sort Algorithm\n",
    "def bubbleSort(aList):\n",
    "    for i in range(len(aList)):\n",
    "        switched  = False\n",
    "        for j in range(len(aList)-1):\n",
    "            if aList[j] > aList[j+1]:\n",
    "                aList[j],aList[j+1] = aList[j+1], aList[j]\n",
    "                switched = True\n",
    "            if switched == False:\n",
    "                break\n",
    "    return aList\n",
    "\n",
    "#Insertion Sort Algorithm\n",
    "def insertionSort(aList):\n",
    "    for i in range(1, len(aList)):\n",
    "        if aList[i] < aList[i-1]:\n",
    "            for j in range(i, 0, -1):\n",
    "                if aList[j] < aList[j-1]:\n",
    "                    aList[j], aList[j-1] = aList[j-1], aList[j]\n",
    "                else:\n",
    "                    break\n",
    "    return aList\n",
    "\n",
    "import time\n",
    "from random import randint\n",
    "nums = [randint(0,100) for x in range(5000)]\n",
    "start_time = time.time()\n",
    "bubbleSort(nums)\n",
    "end_time = time.time() - start_time\n",
    "print(\"Elapsed time for bubble sort algo: {}\". format(end_time))\n",
    "\n",
    "start_time = time.time()\n",
    "insertionSort(nums)\n",
    "end_time = time.time() - start_time\n",
    "print(\"Elapsed time for insertion sort algo: {}\".format(end_time))"
   ]
  },
  {
   "cell_type": "code",
   "execution_count": null,
   "metadata": {},
   "outputs": [],
   "source": []
  }
 ],
 "metadata": {
  "interpreter": {
   "hash": "5d240ba0dc525c389faa33f5dcce5b4f32b6d6aa6d70d6d2dd929bd2b09ab69f"
  },
  "kernelspec": {
   "display_name": "Python 3.10.0 64-bit",
   "language": "python",
   "name": "python3"
  },
  "language_info": {
   "codemirror_mode": {
    "name": "ipython",
    "version": 3
   },
   "file_extension": ".py",
   "mimetype": "text/x-python",
   "name": "python",
   "nbconvert_exporter": "python",
   "pygments_lexer": "ipython3",
   "version": "3.8.10"
  },
  "orig_nbformat": 4
 },
 "nbformat": 4,
 "nbformat_minor": 2
}
