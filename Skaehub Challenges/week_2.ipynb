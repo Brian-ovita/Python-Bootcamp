{
 "cells": [
  {
   "cell_type": "code",
   "execution_count": 27,
   "metadata": {},
   "outputs": [
    {
     "data": {
      "text/plain": [
       "True"
      ]
     },
     "execution_count": 27,
     "metadata": {},
     "output_type": "execute_result"
    }
   ],
   "source": [
    "# check whether a number is a power of four\n",
    "import math\n",
    "y = 4**101\n",
    "def is_power_of_four(number):\n",
    "    x = math.log(number)/math.log(4)\n",
    "    if 4**int(math.ceil(x)) != 4**x:\n",
    "        return False\n",
    "    return True\n",
    "is_power_of_four(64)"
   ]
  },
  {
   "cell_type": "code",
   "execution_count": 28,
   "metadata": {},
   "outputs": [
    {
     "data": {
      "text/plain": [
       "True"
      ]
     },
     "execution_count": 28,
     "metadata": {},
     "output_type": "execute_result"
    }
   ],
   "source": [
    "# check whether there is an integer raised to four that can give the number \n",
    "def is_fourth(number):\n",
    "    for i in range(int(number**0.25)+1):\n",
    "        if i**4==number:\n",
    "            return True\n",
    "    return False\n",
    "is_fourth(81)"
   ]
  },
  {
   "cell_type": "code",
   "execution_count": 37,
   "metadata": {},
   "outputs": [
    {
     "data": {
      "text/plain": [
       "9"
      ]
     },
     "execution_count": 37,
     "metadata": {},
     "output_type": "execute_result"
    }
   ],
   "source": [
    "def len_last_word(sentence):\n",
    "    return len(sentence.split()[-1])\n",
    "new = \"It was a long day that we sold so many bandages to the fugitives\"\n",
    "len_last_word(new)"
   ]
  },
  {
   "cell_type": "code",
   "execution_count": 39,
   "metadata": {},
   "outputs": [],
   "source": [
    "import pandas as pd\n",
    "data = pd.read_csv(\"deck.csv\").to_dict()"
   ]
  },
  {
   "cell_type": "code",
   "execution_count": 43,
   "metadata": {},
   "outputs": [],
   "source": [
    "import pandas as pd\n",
    "data_duplicate = pd.read_csv(\"deck.csv\")"
   ]
  },
  {
   "cell_type": "code",
   "execution_count": 47,
   "metadata": {},
   "outputs": [],
   "source": [
    "import csv\n",
    "student_data = [[\"A\",\"001\",\"M\",\"20\"],\n",
    "                [\"B\",\"002\",\"F\",\"25\"],\n",
    "                [\"C\",\"003\",\"F\",\"18\"]]\n",
    "with open(\"students.csv\", mode  = \"w+\", newline = \"\") as newfile:\n",
    "    writer = csv.writer(newfile, delimiter = \",\")\n",
    "    writer.writerow([\"Name\",\"Reg\",\"Gender\",\"Score\"])\n",
    "    writer.writerows(student_data)\n",
    "    newfile.close()\n",
    "\n",
    "row = [\"Catherine\",\"003\",\"F\",\"18\"]\n",
    "with open(\"students.csv\", mode =\"r\") as f:\n",
    "    reader = csv.reader(f, delimiter = \",\")\n",
    "    lines = list(reader)\n",
    "    f.close()\n",
    "for i in range(len(lines)):\n",
    "    if lines[i] == [\"C\",\"003\",\"F\",\"18\"]:\n",
    "        lines[i] = row\n",
    "with open(\"students.csv\",mode=\"w+\", newline=\"\") as f:\n",
    "    writer = csv.writer(f, delimiter = \",\")\n",
    "    writer.writerows(lines)\n",
    "    f.close()\n"
   ]
  },
  {
   "cell_type": "code",
   "execution_count": 50,
   "metadata": {},
   "outputs": [
    {
     "data": {
      "text/plain": [
       "set"
      ]
     },
     "execution_count": 50,
     "metadata": {},
     "output_type": "execute_result"
    }
   ],
   "source": [
    "x = {1,2,3,4,5}\n",
    "type(x)"
   ]
  },
  {
   "cell_type": "code",
   "execution_count": 9,
   "metadata": {},
   "outputs": [
    {
     "data": {
      "text/plain": [
       "2"
      ]
     },
     "execution_count": 9,
     "metadata": {},
     "output_type": "execute_result"
    }
   ],
   "source": [
    "def decimal_sum(n):\n",
    "    result = sum(list(map(int,[x for x in str(n)])))\n",
    "    if len(str(result)) > 1:\n",
    "        return decimal_sum(result)\n",
    "    else:\n",
    "        return result\n",
    "decimal_sum(38)"
   ]
  },
  {
   "cell_type": "code",
   "execution_count": 10,
   "metadata": {},
   "outputs": [
    {
     "data": {
      "text/plain": [
       "['2', '0', '0', '1']"
      ]
     },
     "execution_count": 10,
     "metadata": {},
     "output_type": "execute_result"
    }
   ],
   "source": [
    "y = 2001\n",
    "x = [x for x in str(y)]\n",
    "x"
   ]
  },
  {
   "cell_type": "code",
   "execution_count": 22,
   "metadata": {},
   "outputs": [
    {
     "name": "stdout",
     "output_type": "stream",
     "text": [
      "Alpha\n"
     ]
    }
   ],
   "source": [
    "records = [[\"Alpha\",20.0],\n",
    "           [\"Beta\",45.0],\n",
    "           [\"Aida\",45.0],\n",
    "           [\"Clara\",50.0],\n",
    "           [\"Dominic\",65.0],\n",
    "           [\"Aaron\",15.0]]\n",
    "def second_low(aList):\n",
    "    scores = []\n",
    "    second_lowest = []\n",
    "    for v in (dict(aList)).values():\n",
    "        scores.append(v)\n",
    "    for k,v in dict(aList).items():\n",
    "        if v==sorted(list(set(scores)))[1]:\n",
    "            second_lowest.append(k)\n",
    "    second_lowest.sort()\n",
    "    for i in second_lowest:\n",
    "        print(i)\n",
    "second_low(records)"
   ]
  },
  {
   "cell_type": "code",
   "execution_count": 15,
   "metadata": {},
   "outputs": [
    {
     "data": {
      "text/plain": [
       "'HEYJUDE'"
      ]
     },
     "execution_count": 15,
     "metadata": {},
     "output_type": "execute_result"
    }
   ],
   "source": [
    "def decrypt(morse_code):\n",
    "    morse_code_dict = {'A':'.-', 'B':'-...',\n",
    "                    'C':'-.-.', 'D':'-..', 'E':'.',\n",
    "                    'F':'..-.', 'G':'--.', 'H':'....',\n",
    "                    'I':'..', 'J':'.---', 'K':'-.-',\n",
    "                    'L':'.-..', 'M':'--', 'N':'-.',\n",
    "                    'O':'---', 'P':'.--.', 'Q':'--.-',\n",
    "                    'R':'.-.', 'S':'...', 'T':'-',\n",
    "                    'U':'..-', 'V':'...-', 'W':'.--',\n",
    "                    'X':'-..-', 'Y':'-.--', 'Z':'--..',\n",
    "                    '1':'.----', '2':'..---', '3':'...--',\n",
    "                    '4':'....-', '5':'.....', '6':'-....',\n",
    "                    '7':'--...', '8':'---..', '9':'----.',\n",
    "                    '0':'-----', ', ':'--..--', '.':'.-.-.-',\n",
    "                    '?':'..--..', '/':'-..-.', '-':'-....-',\n",
    "                    '(':'-.--.', ')':'-.--.-'}\n",
    "    decrypt = []\n",
    "    for i in range(len(morse_code.split())):\n",
    "        for k,v in morse_code_dict.items():\n",
    "            if morse_code.split()[i] == v:\n",
    "                decrypt.append(k)\n",
    "    return \"\".join(decrypt).replace(\",\", \" \")\n",
    "decrypt(\".... . -.-- .--- ..- -.. .\")"
   ]
  },
  {
   "cell_type": "code",
   "execution_count": 10,
   "metadata": {},
   "outputs": [
    {
     "name": "stdout",
     "output_type": "stream",
     "text": [
      "..-. . .-. . --..\n"
     ]
    }
   ],
   "source": [
    "sentence = \"Tomorrow is Friday\"\n",
    "example = {\"Tomorrow\":\"..-.\",\"is\":\".-.\",\"Friday\":\"--..\"}\n",
    "encrypt = []\n",
    "for i in range(len(sentence.split())):\n",
    "    for k,v in example.items():\n",
    "        if sentence.split()[i]==k:\n",
    "            encrypt.append(v)\n",
    "print(\" \".join(encrypt).replace(\" \",\" . \"))\n",
    "    "
   ]
  }
 ],
 "metadata": {
  "interpreter": {
   "hash": "916dbcbb3f70747c44a77c7bcd40155683ae19c65e1c03b4aa3499c5328201f1"
  },
  "kernelspec": {
   "display_name": "Python 3.8.10 64-bit",
   "language": "python",
   "name": "python3"
  },
  "language_info": {
   "codemirror_mode": {
    "name": "ipython",
    "version": 3
   },
   "file_extension": ".py",
   "mimetype": "text/x-python",
   "name": "python",
   "nbconvert_exporter": "python",
   "pygments_lexer": "ipython3",
   "version": "3.10.4"
  },
  "orig_nbformat": 4
 },
 "nbformat": 4,
 "nbformat_minor": 2
}
