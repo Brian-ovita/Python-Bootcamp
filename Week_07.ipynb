{
 "cells": [
  {
   "cell_type": "code",
   "execution_count": 1,
   "metadata": {},
   "outputs": [
    {
     "name": "stdout",
     "output_type": "stream",
     "text": [
      "<__main__.Car object at 0x000001E70E65A380>\n"
     ]
    }
   ],
   "source": [
    "class cr():\n",
    "    pass\n",
    "ford = cr()\n",
    "print(ford)"
   ]
  },
  {
   "cell_type": "code",
   "execution_count": 2,
   "metadata": {},
   "outputs": [
    {
     "name": "stdout",
     "output_type": "stream",
     "text": [
      "130743163235\n",
      "130743163487\n"
     ]
    }
   ],
   "source": [
    "class Cr():\n",
    "    pass\n",
    "subaru = Cr()\n",
    "honda = Cr()\n",
    "print(hash(subaru))\n",
    "print(hash(honda))"
   ]
  },
  {
   "cell_type": "code",
   "execution_count": 3,
   "metadata": {},
   "outputs": [
    {
     "name": "stdout",
     "output_type": "stream",
     "text": [
      "130743163376\n",
      "130743163037\n"
     ]
    }
   ],
   "source": [
    "class animal():\n",
    "    pass\n",
    "lion = animal()\n",
    "wlf = animal()\n",
    "print(hash(lion))\n",
    "print(hash(wlf))"
   ]
  },
  {
   "cell_type": "code",
   "execution_count": 5,
   "metadata": {},
   "outputs": [
    {
     "name": "stdout",
     "output_type": "stream",
     "text": [
      "roar\n",
      "canine\n",
      "Cat\n"
     ]
    }
   ],
   "source": [
    "#attributes\n",
    "class Canine():\n",
    "    sound = 'roar'\n",
    "    species = 'canine'\n",
    "lion = Canine()\n",
    "print(lion.sound)\n",
    "print(lion.species)\n",
    "lion.species = 'Cat'\n",
    "print(lion.species)"
   ]
  },
  {
   "cell_type": "code",
   "execution_count": 6,
   "metadata": {},
   "outputs": [
    {
     "name": "stdout",
     "output_type": "stream",
     "text": [
      "blue\n"
     ]
    }
   ],
   "source": [
    "class car():\n",
    "    def __init__(self, color):\n",
    "        self.color = color\n",
    "ford = car('blue')\n",
    "print(ford.color)"
   ]
  },
  {
   "cell_type": "code",
   "execution_count": 7,
   "metadata": {},
   "outputs": [
    {
     "name": "stdout",
     "output_type": "stream",
     "text": [
      "red 2018\n",
      "yellow 2017\n"
     ]
    }
   ],
   "source": [
    "class Car():\n",
    "    def __init__(self, color, year):\n",
    "        self.color = color\n",
    "        self.year = year\n",
    "subaru = Car('red',2018)\n",
    "honda = Car('yellow',2017)\n",
    "print(subaru.color, subaru.year)\n",
    "print(honda.color, honda.year)"
   ]
  },
  {
   "cell_type": "code",
   "execution_count": 6,
   "metadata": {},
   "outputs": [
    {
     "name": "stdout",
     "output_type": "stream",
     "text": [
      "Sam Husky\n",
      "Casey Chocolate lab\n"
     ]
    }
   ],
   "source": [
    "class dog():\n",
    "    species = 'Canine'\n",
    "    def __init__(self, name, breed):\n",
    "        self.name = name\n",
    "        self.breed = breed\n",
    "dog1 = dog('Sam','Husky')\n",
    "dog2 = dog('Casey','Chocolate lab')\n",
    "\n",
    "print(dog1.name, dog1.breed)\n",
    "print(dog2.name, dog2.breed)"
   ]
  },
  {
   "cell_type": "code",
   "execution_count": 9,
   "metadata": {},
   "outputs": [
    {
     "name": "stdout",
     "output_type": "stream",
     "text": [
      "bark\n",
      "15\n"
     ]
    }
   ],
   "source": [
    "#defining methods\n",
    "class Dg():\n",
    "    def makeSound(self):\n",
    "        print('bark')\n",
    "    def showAge(self, age):\n",
    "        print(age)\n",
    "sam = Dg()\n",
    "sam.makeSound()\n",
    "sam.showAge(15)"
   ]
  },
  {
   "cell_type": "code",
   "execution_count": 10,
   "metadata": {},
   "outputs": [
    {
     "name": "stdout",
     "output_type": "stream",
     "text": [
      "Ruff\n"
     ]
    }
   ],
   "source": [
    "class wolf():\n",
    "    def setName(self, name):\n",
    "        self.name = name\n",
    "    def getName(self):\n",
    "        return self.name\n",
    "Ruff = wolf()\n",
    "Ruff.setName('Ruff')\n",
    "print(Ruff.getName())\n"
   ]
  },
  {
   "cell_type": "code",
   "execution_count": 12,
   "metadata": {},
   "outputs": [
    {
     "name": "stdout",
     "output_type": "stream",
     "text": [
      "Howl\n",
      "True\n"
     ]
    }
   ],
   "source": [
    "class Monsters():\n",
    "    def makeSound(self):\n",
    "        print('Howl')\n",
    "class Werewolves(Monsters):\n",
    "    shapeshift = True\n",
    "scott = Werewolves()\n",
    "scott.makeSound()\n",
    "print(scott.shapeshift)"
   ]
  },
  {
   "cell_type": "code",
   "execution_count": 15,
   "metadata": {},
   "outputs": [
    {
     "name": "stdout",
     "output_type": "stream",
     "text": [
      "Sam canine\n"
     ]
    }
   ],
   "source": [
    "class Animal():\n",
    "    def __init__(self, species):\n",
    "        self.species = species\n",
    "class Dog(Animal):\n",
    "    def __init__(self, name, species):\n",
    "        self.name = name\n",
    "        super().__init__(species)\n",
    "sam = Dog('Sam','canine')\n",
    "print(sam.name, sam.species)"
   ]
  },
  {
   "cell_type": "code",
   "execution_count": 3,
   "metadata": {},
   "outputs": [
    {
     "name": "stdout",
     "output_type": "stream",
     "text": [
      "9.8 2018\n"
     ]
    }
   ],
   "source": [
    "#how to inherit multiple classes\n",
    "class Physics():\n",
    "    gravity = 9.8\n",
    "class Automobile():\n",
    "    def __init__(self, make, model, year):\n",
    "        self.make, self.model, self.year = make, model, year\n",
    "class Ford(Physics, Automobile):\n",
    "    def __init__(self, model, year):\n",
    "        Automobile.__init__(self, 'Ford', model, year)\n",
    "truck = Ford('F-150',2018)\n",
    "print(truck.gravity, truck.year)"
   ]
  },
  {
   "cell_type": "code",
   "execution_count": 8,
   "metadata": {},
   "outputs": [
    {
     "name": "stdout",
     "output_type": "stream",
     "text": [
      "sedan Audi 2017 White\n"
     ]
    }
   ],
   "source": [
    "import random\n",
    "class Color():\n",
    "    colors = [\"Blue\",\"Red\",\"Green\",\"Black\",\"White\",\"Cyan\",\"Magenta\"]\n",
    "    color = random.choice(colors)\n",
    "class Motor():\n",
    "    def __init__(self, make, model, year):\n",
    "        self.make,self.model, self.year = make, model, year\n",
    "class Audi(Color, Motor):\n",
    "    def __init__(self,model, year):\n",
    "        Motor.__init__(self,\"Audi\",model,year)\n",
    "sedan = Audi(\"sedan\",\"2017\")  \n",
    "print(sedan.model, sedan.make, sedan.year, sedan.color)"
   ]
  },
  {
   "cell_type": "code",
   "execution_count": 16,
   "metadata": {},
   "outputs": [
    {
     "name": "stdout",
     "output_type": "stream",
     "text": [
      "My name is Max and I'm on the good guys\n",
      "My name is Meg and I'm on the bad guys\n"
     ]
    }
   ],
   "source": [
    "class Characters():\n",
    "    def __init__(self, name, team, height, weight):\n",
    "        self.name, self.team, self.height, self.weight = name, team, height, weight\n",
    "    def sayHello(self):\n",
    "        print(\"My name is {} and I'm on the {} guys\".format(self.name, self.team))\n",
    "class GoodPlayers(Characters):\n",
    "    def __init__(self, name, height, weight):\n",
    "        Characters.__init__(self, name, 'good',height, weight)\n",
    "    def sayHello(self):\n",
    "        Characters.sayHello(self)\n",
    "class BadPlayers(Characters):\n",
    "    def __init__(self, name, height, weight):\n",
    "        Characters.__init__(self, name, 'bad',height, weight)\n",
    "    def sayHello(self):\n",
    "        Characters.sayHello(self)\n",
    "max = GoodPlayers('Max',170, 75)\n",
    "meg = BadPlayers('Meg', 181, 90)\n",
    "max.sayHello()\n",
    "meg.sayHello()"
   ]
  },
  {
   "cell_type": "markdown",
   "metadata": {},
   "source": [
    "Creating BlackJack"
   ]
  },
  {
   "cell_type": "code",
   "execution_count": 6,
   "metadata": {},
   "outputs": [
    {
     "name": "stdout",
     "output_type": "stream",
     "text": [
      "\n",
      "Brian\n",
      "===========\n",
      "7 of Diamonds\n",
      "2 of Hearts\n",
      "A of Hearts\n",
      "5 of Hearts\n",
      "Total = 15\n",
      "\n",
      "Dealer\n",
      "===========\n",
      "8 of Hearts\n",
      "K of Spades\n",
      "Total = 18\n",
      "Dealer has higher cards, you lose!\n",
      "Adding currency is the last bit of the game\n"
     ]
    }
   ],
   "source": [
    "from random import randint\n",
    "from IPython.display import clear_output\n",
    "class BlackJack():\n",
    "    def __init__(self):\n",
    "        self.deck = []\n",
    "        self.suits = (\"Spades\",\"Hearts\",\"Diamonds\",\"Clubs\")\n",
    "        self.values = (2,3,4,5,6,7,8,9,10,\"J\",\"Q\",\"K\",\"A\")\n",
    "    def makeDeck(self):\n",
    "        for suit in self.suits:\n",
    "            for value in self.values:\n",
    "                self.deck.append((value, suit))\n",
    "    def pullCard(self):\n",
    "        return self.deck.pop(randint(0, len(self.deck)-1))\n",
    "class Player():\n",
    "    def __init__(self, name):\n",
    "        self.name = name\n",
    "        self.hand = []\n",
    "    def addCard(self, card):\n",
    "        self.hand.append(card)\n",
    "    def showHand(self, dealer_start = True):\n",
    "        print(\"\\n{}\".format(self.name))\n",
    "        print(\"===========\")\n",
    "        for i in range(len(self.hand)):\n",
    "            if self.name == \"Dealer\" and i==0 and dealer_start:\n",
    "                print(\"- of -\")\n",
    "            else:\n",
    "                card = self.hand[i]\n",
    "                print('{} of {}'.format(card[0], card[1]))\n",
    "        print(\"Total = {}\".format(self.calcHand(dealer_start)))\n",
    "    def calcHand(self, dealer_start = True):\n",
    "        total = 0\n",
    "        aces = 0\n",
    "        card_values = {1:1,2:2,3:3,4:4,5:5,6:6,7:7,8:8,9:9,10:10,\"J\":10,\"Q\":10,\"K\":10,\"A\":11}\n",
    "        if self.name == \"Dealer\" and dealer_start:\n",
    "            card = self.hand[1]\n",
    "            return card_values[card[0]]\n",
    "        for card in self.hand:\n",
    "            if card[0] == \"A\":\n",
    "                aces += 1\n",
    "            else:\n",
    "                total += card_values[card[0]]\n",
    "        for i in range(aces):\n",
    "            if total + 11 > 21:\n",
    "                total += 1\n",
    "            else:\n",
    "                total += 11\n",
    "        return total\n",
    "play = input(\"Play/Quit\").lower()\n",
    "while play != \"quit\":\n",
    "    game = BlackJack()\n",
    "    game.makeDeck()\n",
    "    name = input(\"What is your name?\")\n",
    "    player = Player(name)\n",
    "    dealer = Player(\"Dealer\")\n",
    "    for i in range(2):\n",
    "        player.addCard(game.pullCard())\n",
    "        dealer.addCard(game.pullCard())\n",
    "    player.showHand()\n",
    "    dealer.showHand()\n",
    "    player_bust = False\n",
    "    while input('Would you like to stay or hit?').lower() != 'stay':\n",
    "        clear_output()\n",
    "        player.addCard(game.pullCard())\n",
    "        player.showHand()\n",
    "        dealer.showHand()\n",
    "        if player.calcHand() > 21:\n",
    "            player_bust = True\n",
    "            print(\"You Lose!\")\n",
    "            break\n",
    "    dealer_bust = False\n",
    "    if not player_bust:\n",
    "        while dealer.calcHand(False) < 17:\n",
    "            dealer.addCard(game.pullCard())\n",
    "            if dealer.calcHand(False) > 21:\n",
    "                dealer_bust = True\n",
    "                print(\"You win!\")\n",
    "                break\n",
    "    clear_output()\n",
    "    player.showHand()\n",
    "    dealer.showHand(False)\n",
    "    if player_bust:\n",
    "        print('You busted! Better luck next time')\n",
    "    elif dealer_bust:\n",
    "        print('The dealer busted, you win!')\n",
    "    elif dealer.calcHand(False) > player.calcHand():\n",
    "        print('Dealer has higher cards, you lose!')\n",
    "    elif dealer.calcHand(False) < player.calcHand():\n",
    "        print('You beat the dealer, congrats!')\n",
    "    else:\n",
    "        print('You pushed, No one wins!')\n",
    "    play = input(\"Play/Quit\").lower()\n",
    "\n",
    "print(\"\"\"Adding currency is the last bit of the game\"\"\") "
   ]
  }
 ],
 "metadata": {
  "kernelspec": {
   "display_name": "Python 3.10.4 64-bit",
   "language": "python",
   "name": "python3"
  },
  "language_info": {
   "codemirror_mode": {
    "name": "ipython",
    "version": 3
   },
   "file_extension": ".py",
   "mimetype": "text/x-python",
   "name": "python",
   "nbconvert_exporter": "python",
   "pygments_lexer": "ipython3",
   "version": "3.10.4"
  },
  "orig_nbformat": 4,
  "vscode": {
   "interpreter": {
    "hash": "31f2aee4e71d21fbe5cf8b01ff0e069b9275f58929596ceb00d14d90e3e16cd6"
   }
  }
 },
 "nbformat": 4,
 "nbformat_minor": 2
}
