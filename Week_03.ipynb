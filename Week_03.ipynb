{
 "cells": [
  {
   "cell_type": "code",
   "execution_count": 1,
   "metadata": {},
   "outputs": [
    {
     "name": "stdout",
     "output_type": "stream",
     "text": [
      "Hello B\n",
      "100.0 + 34.0 = 134.0\n"
     ]
    }
   ],
   "source": [
    "name = input('What is Your Name: ').title()\n",
    "print('Hello {}'.format(name))\n",
    "try:\n",
    "    num = float(input('Enter a number to add to 100: '))\n",
    "    print('100.0 + {} = {}'.format(num, 100+num))\n",
    "except:\n",
    "    print('You did not enter a valid number!')"
   ]
  },
  {
   "cell_type": "markdown",
   "metadata": {},
   "source": [
    "Creating a Calculator"
   ]
  },
  {
   "cell_type": "code",
   "execution_count": 7,
   "metadata": {},
   "outputs": [
    {
     "name": "stdout",
     "output_type": "stream",
     "text": [
      "You chose to add\n",
      "First Number: 5\n",
      "Second Number: 6\n",
      "5.0 + 6.0 = 11.0\n"
     ]
    }
   ],
   "source": [
    "operation = input('Would you like to add/subtract/divide/multiply?').lower()\n",
    "print('You chose to {}'.format(operation))\n",
    "#if operation == 'subtract' or operation == 'divide':\n",
    "#    print('You chose to {}'.format(operation))\n",
    "#    print('Please keep in mind that the order of the numbers chosen matter!')\n",
    "num1 = input('Enter first number: ')\n",
    "num2 = input('Enter second number: ')\n",
    "print(\"First Number: {}\".format(num1))\n",
    "print(\"Second Number: {}\".format(num2))\n",
    "try:\n",
    "    num1, num2 = float(num1), float(num2)\n",
    "    if operation == \"add\":\n",
    "        result = num1 + num2\n",
    "        print('{} + {} = {}'.format(num1, num2, result))\n",
    "    elif operation == \"multipy\":\n",
    "        result = num1 * num2\n",
    "        print('{} * {} = {}'.format(num1, num2, result))\n",
    "    elif operation == \"subtract\":\n",
    "        if num1 > num2:\n",
    "            result = num1 - num2\n",
    "            print('{} - {} = {}'.format(num1, num2, result))\n",
    "        else:\n",
    "            result = num2 - num1\n",
    "            print('{} - {} = {}'.format(num2, num1, result))\n",
    "    elif operation == \"divide\":\n",
    "        if num1 > num2:\n",
    "            result = num1 / num2\n",
    "            print('{} / {} = {}'.format(num1, num2, result))\n",
    "        else:\n",
    "            result = num2 / num1\n",
    "            print('{} / {} = {}'.format(num2, num1, result))\n",
    "    else:\n",
    "        print('Sorry, but {} is not an option'.format(operation))\n",
    "except:\n",
    "    print('The values you entered have invalid formats or give undefined answers!')"
   ]
  },
  {
   "cell_type": "markdown",
   "metadata": {},
   "source": [
    "Age Group"
   ]
  },
  {
   "cell_type": "code",
   "execution_count": 3,
   "metadata": {},
   "outputs": [
    {
     "name": "stdout",
     "output_type": "stream",
     "text": [
      "Senior\n"
     ]
    }
   ],
   "source": [
    "age = int(input('Enter your age: '))\n",
    "if age >= 0 and age <=12:\n",
    "    print(\"Kid\")\n",
    "elif age >=13 and age <=19:\n",
    "    print(\"Teenager\")\n",
    "elif age >=20 and age <=30:\n",
    "    print(\"Young Adult\")\n",
    "elif age >=31 and age <=64:\n",
    "    print(\"Adult\")\n",
    "elif age >= 65:\n",
    "    print(\"Senior\")\n",
    "else:\n",
    "    print('Error. Wrong age format') "
   ]
  }
 ],
 "metadata": {
  "interpreter": {
   "hash": "5d240ba0dc525c389faa33f5dcce5b4f32b6d6aa6d70d6d2dd929bd2b09ab69f"
  },
  "kernelspec": {
   "display_name": "Python 3.10.0 64-bit",
   "language": "python",
   "name": "python3"
  },
  "language_info": {
   "codemirror_mode": {
    "name": "ipython",
    "version": 3
   },
   "file_extension": ".py",
   "mimetype": "text/x-python",
   "name": "python",
   "nbconvert_exporter": "python",
   "pygments_lexer": "ipython3",
   "version": "3.8.10"
  },
  "orig_nbformat": 4
 },
 "nbformat": 4,
 "nbformat_minor": 2
}
