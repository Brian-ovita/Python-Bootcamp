{
 "cells": [
  {
   "cell_type": "code",
   "execution_count": 3,
   "metadata": {},
   "outputs": [
    {
     "name": "stdout",
     "output_type": "stream",
     "text": [
      "baseball\n",
      "8 5\n"
     ]
    }
   ],
   "source": [
    "sport = 'baseball'\n",
    "print(sport)\n",
    "num1 = 5\n",
    "num2 = 8\n",
    "print(num2,num1)"
   ]
  },
  {
   "cell_type": "code",
   "execution_count": 2,
   "metadata": {},
   "outputs": [
    {
     "name": "stdout",
     "output_type": "stream",
     "text": [
      "My name is John Wick\n"
     ]
    }
   ],
   "source": [
    "first = 'John'\n",
    "last = 'Wick'\n",
    "print('My name is %s %s'%(first,last))"
   ]
  },
  {
   "cell_type": "code",
   "execution_count": 5,
   "metadata": {},
   "outputs": [
    {
     "name": "stdout",
     "output_type": "stream",
     "text": [
      "Hello, John Wick\n",
      "Hello, John Wick\n"
     ]
    }
   ],
   "source": [
    "name = 'John Wick'\n",
    "print(f'Hello, {name}')\n",
    "print('Hello, {}'.format(name))"
   ]
  },
  {
   "cell_type": "code",
   "execution_count": 11,
   "metadata": {},
   "outputs": [
    {
     "name": "stdout",
     "output_type": "stream",
     "text": [
      "John Wick\n",
      "JOHN WICK\n",
      "j\n",
      "wick\n",
      "john Wick\n"
     ]
    }
   ],
   "source": [
    "name  = 'john wick'\n",
    "print(name.title())\n",
    "print(name.upper())\n",
    "print(name[0])\n",
    "print(name.lstrip('john '))\n",
    "print(name.replace('w','W'))"
   ]
  },
  {
   "cell_type": "markdown",
   "metadata": {},
   "source": [
    "Creating a Receipt Printing program"
   ]
  },
  {
   "cell_type": "code",
   "execution_count": 22,
   "metadata": {},
   "outputs": [
    {
     "name": "stdout",
     "output_type": "stream",
     "text": [
      "**************************************************\n",
      "*\t\tQuickMart Supermarket\t\t *\n",
      "*\t\t200 Moi Avenue Lane\t\t *\n",
      "*\t\tNairobi, Ke\t\t\t *\n",
      "==================================================\n",
      "*\tProduct Name\tProduct Price\t\t *\n",
      "*\tSugar\t\t$120.59\t\t\t *\n",
      "*\tMilk\t\t$54.99\t\t\t *\n",
      "*\tBread\t\t$49.55\t\t\t *\n",
      "*\tMarg\t\t$80.0\t\t\t *\n",
      "==================================================\n",
      "*\t\t\tTotal\t\t\t *\n",
      "*\t\t\t$305.13\t\t\t *\n",
      "==================================================\n",
      "*\t\t\t\t\t\t *\n",
      "*\tThank you for shopping with us Today!\t *\n",
      "*\t\t\t\t\t\t *\n",
      "**************************************************\n"
     ]
    }
   ],
   "source": [
    "#product name and price\n",
    "p1_name, p1_price = 'Sugar', 120.59\n",
    "p2_name, p2_price = 'Milk', 54.99\n",
    "p3_name, p3_price = 'Bread',49.55\n",
    "p4_name, p4_price = 'Marg' , 80.00\n",
    "\n",
    "#company details\n",
    "company_name = 'QuickMart Supermarket'\n",
    "company_address = '200 Moi Avenue Lane'\n",
    "company_city = 'Nairobi, Ke'\n",
    "\n",
    "#ending message\n",
    "message = 'Thank you for shopping with us Today!'\n",
    "\n",
    "#Top border\n",
    "print('*'*50)\n",
    "\n",
    "#company info\n",
    "print('*\\t\\t{}\\t\\t *'.format(company_name))\n",
    "print('*\\t\\t{}\\t\\t *'.format(company_address))\n",
    "print('*\\t\\t{}\\t\\t\\t *'.format(company_city))\n",
    "\n",
    "print('='*50)\n",
    "print('*\\tProduct Name\\tProduct Price\\t\\t *')\n",
    "\n",
    "#Each Product\n",
    "print('*\\t{}\\t\\t${}\\t\\t\\t *'.format(p1_name,p1_price))\n",
    "print('*\\t{}\\t\\t${}\\t\\t\\t *'.format(p2_name,p2_price))\n",
    "print('*\\t{}\\t\\t${}\\t\\t\\t *'.format(p3_name,p3_price))\n",
    "print('*\\t{}\\t\\t${}\\t\\t\\t *'.format(p4_name,p4_price))\n",
    "\n",
    "print('='*50)\n",
    "print('*\\t\\t\\tTotal\\t\\t\\t *')\n",
    "total = p1_price+p2_price+p3_price+p4_price\n",
    "print('*\\t\\t\\t${}\\t\\t\\t *'.format(total))\n",
    "print('='*50)\n",
    "print('*\\t\\t\\t\\t\\t\\t *\\n*\\t{}\\t *\\n*\\t\\t\\t\\t\\t\\t *'.format(message))\n",
    "print('*'*50)"
   ]
  },
  {
   "cell_type": "code",
   "execution_count": 23,
   "metadata": {},
   "outputs": [
    {
     "name": "stdout",
     "output_type": "stream",
     "text": [
      "olleH\n"
     ]
    }
   ],
   "source": [
    "word = 'Hello'\n",
    "revword = word[::-1]\n",
    "print(revword)"
   ]
  }
 ],
 "metadata": {
  "interpreter": {
   "hash": "5d240ba0dc525c389faa33f5dcce5b4f32b6d6aa6d70d6d2dd929bd2b09ab69f"
  },
  "kernelspec": {
   "display_name": "Python 3.10.0 64-bit",
   "language": "python",
   "name": "python3"
  },
  "language_info": {
   "codemirror_mode": {
    "name": "ipython",
    "version": 3
   },
   "file_extension": ".py",
   "mimetype": "text/x-python",
   "name": "python",
   "nbconvert_exporter": "python",
   "pygments_lexer": "ipython3",
   "version": "3.10.0"
  },
  "orig_nbformat": 4
 },
 "nbformat": 4,
 "nbformat_minor": 2
}
