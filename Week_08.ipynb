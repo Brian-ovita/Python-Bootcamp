{
 "cells": [
  {
   "cell_type": "markdown",
   "metadata": {},
   "source": [
    "#List Comprehensions"
   ]
  },
  {
   "cell_type": "code",
   "execution_count": 3,
   "metadata": {},
   "outputs": [
    {
     "name": "stdout",
     "output_type": "stream",
     "text": [
      "[0, 2, 4, 6, 8]\n"
     ]
    }
   ],
   "source": [
    "#generating a list of numbers\n",
    "numbs = [x for x in range(100)]\n",
    "\n",
    "#if statements within comprehensions\n",
    "num = [x for x in range(10) if x % 2==0]\n",
    "print(num)"
   ]
  },
  {
   "cell_type": "code",
   "execution_count": 4,
   "metadata": {},
   "outputs": [
    {
     "name": "stdout",
     "output_type": "stream",
     "text": [
      "['Even', 'Odd', 'Even', 'Odd', 'Even', 'Odd', 'Even', 'Odd', 'Even', 'Odd']\n"
     ]
    }
   ],
   "source": [
    "#using if else\n",
    "numbers = [\"Even\" if x % 2==0 else \"Odd\" for x in range(10)]\n",
    "print(numbers)"
   ]
  },
  {
   "cell_type": "code",
   "execution_count": 9,
   "metadata": {},
   "outputs": [
    {
     "name": "stdout",
     "output_type": "stream",
     "text": [
      "[1, 9, 25]\n"
     ]
    }
   ],
   "source": [
    "#list comprehensions with variables\n",
    "n = [1,2,3,4,5,6]\n",
    "sqrd = [num**2 for num in n if num % 2 != 0]\n",
    "print(sqrd)"
   ]
  },
  {
   "cell_type": "code",
   "execution_count": 6,
   "metadata": {},
   "outputs": [
    {
     "name": "stdout",
     "output_type": "stream",
     "text": [
      "{0: 0, 2: 4, 4: 16, 6: 36, 8: 64}\n"
     ]
    }
   ],
   "source": [
    "#Dictionary comprehensions\n",
    "numbers = [x for x in range(10)]\n",
    "squared = {num:num**2 for num in numbers if num % 2==0}\n",
    "print(squared)"
   ]
  },
  {
   "cell_type": "code",
   "execution_count": 8,
   "metadata": {},
   "outputs": [
    {
     "name": "stdout",
     "output_type": "stream",
     "text": [
      "[53.6, 69.80000000000001, 59.0, 89.6]\n"
     ]
    }
   ],
   "source": [
    "#Degree conversion\n",
    "degrees = [12,21,15,32]\n",
    "Fahrenheit = [1.8*degree + 32 for degree in degrees]\n",
    "print(Fahrenheit)"
   ]
  },
  {
   "cell_type": "code",
   "execution_count": 10,
   "metadata": {},
   "outputs": [
    {
     "name": "stdout",
     "output_type": "stream",
     "text": [
      "The multiples of 17 from 0 to 100 are [0, 17, 34, 51, 68, 85]\n"
     ]
    }
   ],
   "source": [
    "num  = int(input('Enter a number:'))\n",
    "multiples = [x for x in range(101) if x % num == 0]\n",
    "print('The multiples of {} from 0 to 100 are {}'.format(num, multiples))"
   ]
  },
  {
   "cell_type": "markdown",
   "metadata": {},
   "source": [
    "Lambda Functions"
   ]
  },
  {
   "cell_type": "code",
   "execution_count": 14,
   "metadata": {},
   "outputs": [
    {
     "data": {
      "text/plain": [
       "16"
      ]
     },
     "execution_count": 14,
     "metadata": {},
     "output_type": "execute_result"
    }
   ],
   "source": [
    "(lambda x: x**2)(4)"
   ]
  },
  {
   "cell_type": "code",
   "execution_count": 11,
   "metadata": {},
   "outputs": [
    {
     "data": {
      "text/plain": [
       "50"
      ]
     },
     "execution_count": 11,
     "metadata": {},
     "output_type": "execute_result"
    }
   ],
   "source": [
    "(lambda x,y: x*y)(10,5)"
   ]
  },
  {
   "cell_type": "code",
   "execution_count": 12,
   "metadata": {},
   "outputs": [
    {
     "data": {
      "text/plain": [
       "1"
      ]
     },
     "execution_count": 12,
     "metadata": {},
     "output_type": "execute_result"
    }
   ],
   "source": [
    "(lambda x,y,z: (x**y)%z)(3,4,2)"
   ]
  },
  {
   "cell_type": "code",
   "execution_count": 16,
   "metadata": {},
   "outputs": [
    {
     "name": "stdout",
     "output_type": "stream",
     "text": [
      "<function <lambda> at 0x00000252CF52E5F0>\n",
      "50\n"
     ]
    }
   ],
   "source": [
    "square = lambda x,y: x*y\n",
    "print(square)\n",
    "result = square(10,5)\n",
    "print(result)"
   ]
  },
  {
   "cell_type": "code",
   "execution_count": 17,
   "metadata": {},
   "outputs": [
    {
     "name": "stdout",
     "output_type": "stream",
     "text": [
      "10\n"
     ]
    }
   ],
   "source": [
    "greater = lambda x,y: x if x>y else y\n",
    "result = greater(10,5)\n",
    "print(result)"
   ]
  },
  {
   "cell_type": "code",
   "execution_count": 18,
   "metadata": {},
   "outputs": [
    {
     "name": "stdout",
     "output_type": "stream",
     "text": [
      "10\n",
      "27\n"
     ]
    }
   ],
   "source": [
    "#returning a lambda\n",
    "# a sort of higher function \n",
    "def my_func(n):\n",
    "    return lambda x: x*n\n",
    "doubler = my_func(2)\n",
    "tripled = my_func(3)\n",
    "print(doubler(5))\n",
    "print(tripled(9))"
   ]
  },
  {
   "cell_type": "code",
   "execution_count": 13,
   "metadata": {},
   "outputs": [
    {
     "data": {
      "text/plain": [
       "9"
      ]
     },
     "execution_count": 13,
     "metadata": {},
     "output_type": "execute_result"
    }
   ],
   "source": [
    "def func(m):\n",
    "    return lambda x,y:(x+y)**m\n",
    "func1 = func(1)\n",
    "func1(4,5)"
   ]
  },
  {
   "cell_type": "code",
   "execution_count": 1,
   "metadata": {},
   "outputs": [
    {
     "data": {
      "text/plain": [
       "False"
      ]
     },
     "execution_count": 1,
     "metadata": {},
     "output_type": "execute_result"
    }
   ],
   "source": [
    "(lambda x: True if x>50 else False)(35)\n"
   ]
  },
  {
   "cell_type": "markdown",
   "metadata": {},
   "source": [
    "Map, Reduce and Filter"
   ]
  },
  {
   "cell_type": "code",
   "execution_count": 2,
   "metadata": {},
   "outputs": [
    {
     "name": "stdout",
     "output_type": "stream",
     "text": [
      "['MAIDEN', 'MAYHEM', 'WAYWARD', 'PAPER', 'CATER', 'VAPOR']\n"
     ]
    }
   ],
   "source": [
    "def high(x):\n",
    "    return x.upper()\n",
    "clue = [\"maiden\",\"mayhem\",\"wayward\",\"paper\",\"cater\",\"vapor\"]\n",
    "clue_new = map(high, clue)\n",
    "print(list(clue_new))"
   ]
  },
  {
   "cell_type": "code",
   "execution_count": 4,
   "metadata": {},
   "outputs": [
    {
     "name": "stdout",
     "output_type": "stream",
     "text": [
      "5040\n"
     ]
    }
   ],
   "source": [
    "from functools import reduce\n",
    "numbers = [x for x in range(1,8,1)]\n",
    "result = reduce(lambda a,b:a*b, numbers)\n",
    "print(result)"
   ]
  },
  {
   "cell_type": "code",
   "execution_count": 3,
   "metadata": {},
   "outputs": [
    {
     "name": "stdout",
     "output_type": "stream",
     "text": [
      "<map object at 0x000002429254A6E0>\n",
      "[54.5, 56.480000000000004, 59.0, 48.56]\n"
     ]
    }
   ],
   "source": [
    "#using the map function without lambdas\n",
    "def convertDeg(C):\n",
    "    return (9/5)*C + 32\n",
    "temps = [12.5, 13.6,15,9.2]\n",
    "converted_temps = map(convertDeg, temps)\n",
    "print(converted_temps)\n",
    "converted_temps = list(converted_temps)\n",
    "print(converted_temps)"
   ]
  },
  {
   "cell_type": "code",
   "execution_count": 8,
   "metadata": {},
   "outputs": [
    {
     "name": "stdout",
     "output_type": "stream",
     "text": [
      "[54.5, 56.480000000000004, 59.0, 48.56]\n"
     ]
    }
   ],
   "source": [
    "#the map function with lambdas\n",
    "temps = [12.5, 13.6,15,9.2]\n",
    "converted_temps = list(map(lambda x: (9/5)*x + 32, temps))\n",
    "print(converted_temps)"
   ]
  },
  {
   "cell_type": "code",
   "execution_count": 1,
   "metadata": {},
   "outputs": [
    {
     "name": "stdout",
     "output_type": "stream",
     "text": [
      "<filter object at 0x7f9758516580>\n",
      "[13.6, 15]\n"
     ]
    }
   ],
   "source": [
    "#filters without lambdas\n",
    "def filterTemps(C):\n",
    "    converted = (9/5)*C + 32\n",
    "    return converted > 55\n",
    "temps = [12.5, 13.6,15,9.2]\n",
    "filtered_temps = filter(filterTemps, temps)\n",
    "print(filtered_temps)\n",
    "filtered_temps = list(filtered_temps)\n",
    "print(filtered_temps)"
   ]
  },
  {
   "cell_type": "code",
   "execution_count": 10,
   "metadata": {},
   "outputs": [
    {
     "name": "stdout",
     "output_type": "stream",
     "text": [
      "[2, 5, 11, 17, 23, 29, 41, 47, 53, 59, 71, 83, 89, 101, 107, 113, 131, 137, 149, 167, 173, 179, 191, 197]\n"
     ]
    }
   ],
   "source": [
    "numbers = [x for x in range(2,200,3)]\n",
    "def isPrime(x):\n",
    "    for i in range(2, int(x**0.5)+1):\n",
    "        if x%i == 0:\n",
    "            return False\n",
    "    return True\n",
    "prime_numbers = list(filter(isPrime, numbers))\n",
    "print(prime_numbers)"
   ]
  },
  {
   "cell_type": "code",
   "execution_count": 1,
   "metadata": {},
   "outputs": [
    {
     "name": "stdout",
     "output_type": "stream",
     "text": [
      "[13.6, 15]\n"
     ]
    }
   ],
   "source": [
    "#filters with lambdas\n",
    "temps = [12.5, 13.6,15,9.2]\n",
    "filtered_temps = list(filter(lambda C: True if (9/5)*C+32 > 55 else False, temps))\n",
    "print(filtered_temps)"
   ]
  },
  {
   "cell_type": "code",
   "execution_count": 5,
   "metadata": {},
   "outputs": [
    {
     "name": "stdout",
     "output_type": "stream",
     "text": [
      "720\n"
     ]
    }
   ],
   "source": [
    "#using the reduce function\n",
    "from functools import reduce\n",
    "n = [x for x in range(1,7,1)]\n",
    "result = reduce(lambda a,b: a*b, n)\n",
    "print(result)"
   ]
  },
  {
   "cell_type": "code",
   "execution_count": 5,
   "metadata": {},
   "outputs": [
    {
     "name": "stdout",
     "output_type": "stream",
     "text": [
      "['ryan', 'PAUL', 'kevin connors']\n"
     ]
    }
   ],
   "source": [
    "names = [\"Ryan\",\"Paul\",\"Kevin Connors\"]\n",
    "mew = list(map(lambda x: x.lower() if (x==\"Ryan\" or x==\"Kevin Connors\") else x.upper(), names))\n",
    "print(mew)"
   ]
  },
  {
   "cell_type": "code",
   "execution_count": 49,
   "metadata": {},
   "outputs": [
    {
     "name": "stdout",
     "output_type": "stream",
     "text": [
      "['Ryan', 'Paul', 'Kevin connors']\n"
     ]
    }
   ],
   "source": [
    "names = [\"Ryan\",\"PAUL\",\"KeVin Connors\"]\n",
    "new = list(map(lambda i: i.strip().capitalize(), names))\n",
    "print(new)"
   ]
  },
  {
   "cell_type": "code",
   "execution_count": 7,
   "metadata": {},
   "outputs": [
    {
     "name": "stdout",
     "output_type": "stream",
     "text": [
      "['Amanda', 'abby', 'Adam']\n"
     ]
    }
   ],
   "source": [
    "names = [\"Amanda\", \"Frank\", \"abby\", \"Roar\", \"Adam\"]\n",
    "filtered_names = list(filter(lambda a: True if a[0].lower()=='a' else False,names))\n",
    "print(filtered_names)"
   ]
  },
  {
   "cell_type": "code",
   "execution_count": 6,
   "metadata": {},
   "outputs": [
    {
     "name": "stdout",
     "output_type": "stream",
     "text": [
      "['Amanda', 'abby', 'Adam']\n"
     ]
    }
   ],
   "source": [
    "names = [\"Amanda\", \"Frank\", \"abby\", \"Roar\", \"Adam\"]\n",
    "def start_a(aList):\n",
    "    for i in aList:\n",
    "        return i[0].lower()=='a'\n",
    "cov_names = filter(start_a, names)\n",
    "print(list(cov_names))"
   ]
  },
  {
   "cell_type": "markdown",
   "metadata": {},
   "source": [
    "Recursion and memoisation"
   ]
  },
  {
   "cell_type": "code",
   "execution_count": 25,
   "metadata": {},
   "outputs": [
    {
     "data": {
      "text/plain": [
       "30414093201713378043612608166064768844377641568960512000000000000"
      ]
     },
     "execution_count": 25,
     "metadata": {},
     "output_type": "execute_result"
    }
   ],
   "source": [
    "#factorial function\n",
    "from functools import lru_cache\n",
    "@lru_cache()\n",
    "def factorial(n):\n",
    "    if n <= 1:\n",
    "        return 1\n",
    "    else:\n",
    "        return factorial(n-1)*n\n",
    "factorial(50)"
   ]
  },
  {
   "cell_type": "code",
   "execution_count": 7,
   "metadata": {},
   "outputs": [
    {
     "name": "stdout",
     "output_type": "stream",
     "text": [
      "55\n"
     ]
    }
   ],
   "source": [
    "#the fibonacci sequence\n",
    "def fib(n):\n",
    "    if n <= 1:\n",
    "        return n\n",
    "    else:\n",
    "        return fib(n-1) + fib(n-2)\n",
    "print(fib(10))"
   ]
  },
  {
   "cell_type": "code",
   "execution_count": 23,
   "metadata": {},
   "outputs": [
    {
     "name": "stdout",
     "output_type": "stream",
     "text": [
      "12586269025\n",
      "20365011074\n",
      "32951280099\n"
     ]
    }
   ],
   "source": [
    "#returning a list of the fibonacci\n",
    "cache = {}\n",
    "def fib(n):\n",
    "    if n in cache:\n",
    "        return cache[n]\n",
    "    result = 0\n",
    "    #base case\n",
    "    if n <= 1:\n",
    "        result =  n\n",
    "    else:\n",
    "        result =  fib(n-1)+fib(n-2)\n",
    "    cache[n] = result\n",
    "    return result\n",
    "print(fib(50))\n",
    "print(fib(51))\n",
    "print(fib(52))"
   ]
  },
  {
   "cell_type": "code",
   "execution_count": 8,
   "metadata": {},
   "outputs": [
    {
     "name": "stdout",
     "output_type": "stream",
     "text": [
      "12586269025\n"
     ]
    }
   ],
   "source": [
    "#memoization with fibonacci sequence\n",
    "cache = {}\n",
    "def fib(n):\n",
    "    if n in cache:\n",
    "        return cache[n]\n",
    "    result = 0\n",
    "    if n <= 1:\n",
    "        result = n\n",
    "    else:\n",
    "        result = fib(n-2) + fib(n-1)\n",
    "    cache[n] = result\n",
    "    return result\n",
    "print(fib(50))"
   ]
  },
  {
   "cell_type": "code",
   "execution_count": 38,
   "metadata": {},
   "outputs": [
    {
     "data": {
      "text/plain": [
       "[0, 1, 1, 2, 3, 0, 3, 3, 1, 4, 0, 4, 4, 3, 2, 0, 2, 2, 4, 1]"
      ]
     },
     "execution_count": 38,
     "metadata": {},
     "output_type": "execute_result"
    }
   ],
   "source": [
    "#using lru_cache\n",
    "from functools import lru_cache\n",
    "fib_list = []\n",
    "@lru_cache()\n",
    "def fib(n):\n",
    "    if n <= 1:\n",
    "        return n\n",
    "    else:\n",
    "        return fib(n-1)+fib(n-2)\n",
    "def lagged_fibonacci(n):\n",
    "    fib_list = []\n",
    "    for i in range(n):\n",
    "        fib_list.append(fib(i)%5)\n",
    "    return fib_list\n",
    "lagged_fibonacci(20)"
   ]
  },
  {
   "cell_type": "code",
   "execution_count": 11,
   "metadata": {},
   "outputs": [
    {
     "name": "stdout",
     "output_type": "stream",
     "text": [
      "362880\n"
     ]
    }
   ],
   "source": [
    "#factorial caching\n",
    "from functools import lru_cache\n",
    "@lru_cache()\n",
    "def fact(n):\n",
    "    if n <= 1:\n",
    "        return 1\n",
    "    else:\n",
    "        return fact(n-1)*n\n",
    "print(fact(9))"
   ]
  },
  {
   "cell_type": "markdown",
   "metadata": {},
   "source": [
    "Writing a binary search"
   ]
  },
  {
   "cell_type": "code",
   "execution_count": 32,
   "metadata": {},
   "outputs": [
    {
     "data": {
      "text/plain": [
       "True"
      ]
     },
     "execution_count": 32,
     "metadata": {},
     "output_type": "execute_result"
    }
   ],
   "source": [
    "from random import randint\n",
    "\n",
    "def binarySearch(aList, value):\n",
    "    aList = list(map(str, aList))\n",
    "    value = str(value)\n",
    "    aList.sort()\n",
    "    mid = len(aList)//2\n",
    "    if aList[mid] == value:\n",
    "        return True\n",
    "    return binarySearch(aList[:mid],value) if aList[mid] > value else binarySearch(aList[mid+1:],value)\n",
    "   \n",
    "binarySearch(['a', '3', 1022, 'e','hello'],3)"
   ]
  },
  {
   "cell_type": "code",
   "execution_count": 101,
   "metadata": {},
   "outputs": [
    {
     "name": "stdout",
     "output_type": "stream",
     "text": [
      "You entered 13\n",
      "13 is a prime number\n"
     ]
    }
   ],
   "source": [
    "#prime number\n",
    "def isPrime(num):\n",
    "    for i in range(2, int(num**0.5)+1):\n",
    "        if num%i == 0:\n",
    "            return False\n",
    "    return True\n",
    "n = int(input('Enter a number: '))\n",
    "print(f\"You entered {n}\")\n",
    "if isPrime(n):\n",
    "    print(f'{n} is a prime number')\n",
    "else:\n",
    "    print(f'{n} is not a prime number')"
   ]
  },
  {
   "cell_type": "code",
   "execution_count": 2,
   "metadata": {},
   "outputs": [
    {
     "data": {
      "text/plain": [
       "True"
      ]
     },
     "execution_count": 2,
     "metadata": {},
     "output_type": "execute_result"
    }
   ],
   "source": [
    "def searchList(aList, x):\n",
    "    if x in aList:\n",
    "        return True\n",
    "    else:\n",
    "        for i in aList:\n",
    "            if type(i)==type(aList):\n",
    "                return searchList(i,x)\n",
    "    return False\n",
    "listed = [25,34,56,[23,13,[45,67,16,[19,14,12],11],29,33],57,43]\n",
    "searchList(listed, 23)"
   ]
  },
  {
   "cell_type": "code",
   "execution_count": 33,
   "metadata": {},
   "outputs": [
    {
     "data": {
      "text/plain": [
       "30414093201713378043612608166064768844377641568960512000000000000"
      ]
     },
     "execution_count": 33,
     "metadata": {},
     "output_type": "execute_result"
    }
   ],
   "source": [
    "# This can simply be called factorial, or my factorial\n",
    "from functools import lru_cache\n",
    "\n",
    "@lru_cache\n",
    "def my_func(x):\n",
    "    if x <= 1:\n",
    "        return x\n",
    "    else:\n",
    "        return my_func(x-1)*x\n",
    "\n",
    "my_func(50)\n",
    "    "
   ]
  }
 ],
 "metadata": {
  "kernelspec": {
   "display_name": "Python 3.10.4 64-bit",
   "language": "python",
   "name": "python3"
  },
  "language_info": {
   "codemirror_mode": {
    "name": "ipython",
    "version": 3
   },
   "file_extension": ".py",
   "mimetype": "text/x-python",
   "name": "python",
   "nbconvert_exporter": "python",
   "pygments_lexer": "ipython3",
   "version": "3.10.4"
  },
  "orig_nbformat": 4,
  "vscode": {
   "interpreter": {
    "hash": "916dbcbb3f70747c44a77c7bcd40155683ae19c65e1c03b4aa3499c5328201f1"
   }
  }
 },
 "nbformat": 4,
 "nbformat_minor": 2
}
