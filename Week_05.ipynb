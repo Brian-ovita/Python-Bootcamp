{
 "cells": [
  {
   "cell_type": "markdown",
   "metadata": {},
   "source": [
    "Functions"
   ]
  },
  {
   "cell_type": "code",
   "execution_count": 1,
   "metadata": {},
   "outputs": [
    {
     "name": "stdout",
     "output_type": "stream",
     "text": [
      "Name: Brian Ovita\n",
      "Age: Old\n"
     ]
    }
   ],
   "source": [
    "def printInfo():\n",
    "    print('Name: Brian Ovita')\n",
    "    print('Age: Old')\n",
    "printInfo()"
   ]
  },
  {
   "cell_type": "code",
   "execution_count": 1,
   "metadata": {},
   "outputs": [
    {
     "name": "stdout",
     "output_type": "stream",
     "text": [
      "16\n",
      "36\n",
      "81\n",
      "64\n"
     ]
    }
   ],
   "source": [
    "def Sq(aList):\n",
    "    for i in aList:\n",
    "        print(i**2)\n",
    "x = [4,6,9,8]\n",
    "Sq(x)"
   ]
  },
  {
   "cell_type": "code",
   "execution_count": 4,
   "metadata": {},
   "outputs": [
    {
     "name": "stdout",
     "output_type": "stream",
     "text": [
      "What\n"
     ]
    },
    {
     "data": {
      "text/plain": [
       "True"
      ]
     },
     "execution_count": 4,
     "metadata": {},
     "output_type": "execute_result"
    }
   ],
   "source": [
    "def checkCase(word):\n",
    "    print(word)\n",
    "    return True if word[0] == word[0].upper() else False\n",
    "name = input('Enter a word: ')\n",
    "checkCase(name)"
   ]
  },
  {
   "cell_type": "code",
   "execution_count": 2,
   "metadata": {},
   "outputs": [
    {
     "name": "stdout",
     "output_type": "stream",
     "text": [
      "['Bob', 'Bill', 'Rich']\n"
     ]
    }
   ],
   "source": [
    "names = ['Bob','Bill','Amanda']\n",
    "def changeValue(aList, name, index):\n",
    "    aList[index] = name\n",
    "    print(aList)\n",
    "changeValue(names,'Rich',2)"
   ]
  },
  {
   "cell_type": "markdown",
   "metadata": {},
   "source": [
    "Creating a Shopping cart"
   ]
  },
  {
   "cell_type": "code",
   "execution_count": 3,
   "metadata": {},
   "outputs": [
    {
     "name": "stdout",
     "output_type": "stream",
     "text": [
      "Here is your cart: \n",
      "1).Shoes\n",
      "Thanks for using our program!\n"
     ]
    }
   ],
   "source": [
    "from IPython.display import clear_output\n",
    "cart = []\n",
    "\n",
    "def addItem(item):\n",
    "    clear_output()\n",
    "    cart.append(item)\n",
    "    print('{} has been added.'.format(item))\n",
    "\n",
    "def removeItem(item='',index=''):\n",
    "    clear_output()\n",
    "    try:\n",
    "        if item:\n",
    "            cart.remove(item)\n",
    "            print('{} has been removed.'.format(item))\n",
    "        else:\n",
    "            item = cart.pop(index-1)\n",
    "            print('{} has been removed.'.format(item))\n",
    "    except:\n",
    "        print('Sorry, we could not remove that item')\n",
    "\n",
    "def showCart():\n",
    "    clear_output()\n",
    "    num = 1\n",
    "    if cart:\n",
    "        print('Here is your cart: ')\n",
    "        for item in cart:\n",
    "            print('{}).{}'.format(num,item))\n",
    "            num += 1\n",
    "    else:\n",
    "        print('Your cart is empty!')\n",
    "\n",
    "def clearCart():\n",
    "    clear_output()\n",
    "    cart.clear()\n",
    "    print('Your cart is empty')\n",
    "\n",
    "def main():\n",
    "    done = False\n",
    "    while not done:\n",
    "        ans = input('quit/add/remove/show/clear: ').lower()\n",
    "        if ans == 'quit':\n",
    "            showCart()\n",
    "            print('Thanks for using our program!')\n",
    "            done = True\n",
    "        elif ans == 'add':\n",
    "            item = input('What would you like to add?').title()\n",
    "            addItem(item)\n",
    "        elif ans == 'remove':\n",
    "            showCart()\n",
    "            means = input('index/item?').lower()\n",
    "            if means == 'index':\n",
    "                ind = int(input(\"Enter number of item to remove: \"))\n",
    "                removeItem(index = ind)\n",
    "            elif means == 'item':\n",
    "                ind = input('what item would you like to remove?').title()\n",
    "                removeItem(item = ind)\n",
    "            else:\n",
    "                print('{} is not a remove option'.format(means.title()))                       \n",
    "        elif ans == 'show':\n",
    "            showCart()\n",
    "        elif ans == 'clear':\n",
    "            clearCart()\n",
    "        else:\n",
    "            print('Sorry that was not an option')\n",
    "main()"
   ]
  },
  {
   "cell_type": "code",
   "execution_count": null,
   "metadata": {},
   "outputs": [],
   "source": []
  }
 ],
 "metadata": {
  "kernelspec": {
   "display_name": "Python 3.10.4 64-bit",
   "language": "python",
   "name": "python3"
  },
  "language_info": {
   "codemirror_mode": {
    "name": "ipython",
    "version": 3
   },
   "file_extension": ".py",
   "mimetype": "text/x-python",
   "name": "python",
   "nbconvert_exporter": "python",
   "pygments_lexer": "ipython3",
   "version": "3.10.4"
  },
  "orig_nbformat": 4,
  "vscode": {
   "interpreter": {
    "hash": "916dbcbb3f70747c44a77c7bcd40155683ae19c65e1c03b4aa3499c5328201f1"
   }
  }
 },
 "nbformat": 4,
 "nbformat_minor": 2
}
