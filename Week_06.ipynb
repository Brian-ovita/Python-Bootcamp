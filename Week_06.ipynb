{
 "cells": [
  {
   "cell_type": "code",
   "execution_count": 2,
   "metadata": {},
   "outputs": [
    {
     "name": "stdout",
     "output_type": "stream",
     "text": [
      "{'name': 'Julius Ceasar', 'age': 26}\n",
      "Julius Ceasar\n",
      "Nme is not available\n"
     ]
    }
   ],
   "source": [
    "customer = {'name':'Julius Ceasar','age':26}\n",
    "print(customer)\n",
    "print(customer['name'])\n",
    "print(customer.get('nme','Nme is not available'))"
   ]
  },
  {
   "cell_type": "code",
   "execution_count": 1,
   "metadata": {},
   "outputs": [
    {
     "name": "stdout",
     "output_type": "stream",
     "text": [
      "{'sports': ['soccer', 'baseball', 'basketball', 'hockey', 'handball']}\n"
     ]
    }
   ],
   "source": [
    "sports = ['soccer','baseball','basketball','hockey','handball']\n",
    "sports_dict = dict({'sports':sports})\n",
    "print(sports_dict)"
   ]
  },
  {
   "cell_type": "code",
   "execution_count": 3,
   "metadata": {},
   "outputs": [
    {
     "name": "stdout",
     "output_type": "stream",
     "text": [
      "Cheese\n",
      "Sausage\n",
      "Pepper\n"
     ]
    }
   ],
   "source": [
    "pizza = {'ingredients':['cheese','sausage','pepper']}\n",
    "for i in pizza['ingredients']:\n",
    "    print(i.title())"
   ]
  },
  {
   "cell_type": "code",
   "execution_count": 1,
   "metadata": {},
   "outputs": [
    {
     "name": "stdout",
     "output_type": "stream",
     "text": [
      "{'year': 2018, 'color': 'blue'}\n",
      "{'year': 2018, 'color': 'red'}\n",
      "{'color': 'red'}\n"
     ]
    }
   ],
   "source": [
    "car = {'year':2018}\n",
    "car[\"color\"] = 'blue'\n",
    "print(car)\n",
    "car['color'] = 'red'\n",
    "print(car)\n",
    "try:\n",
    "    del(car['year'])\n",
    "    print(car)\n",
    "except:\n",
    "    print('That key des not exist')"
   ]
  },
  {
   "cell_type": "code",
   "execution_count": 1,
   "metadata": {},
   "outputs": [
    {
     "name": "stdout",
     "output_type": "stream",
     "text": [
      "Name: Joseph\n",
      "Age: 33\n",
      "Occupation: Technician\n",
      "Marital: Married\n",
      "\n",
      "Joseph\n",
      "33\n",
      "Technician\n",
      "Married\n",
      "\n",
      "Name - Joseph\n",
      "Age - 33\n",
      "Occupation - Technician\n",
      "Marital - Married\n"
     ]
    }
   ],
   "source": [
    "#iterating over dictionaries\n",
    "person = {'Name':'Joseph','Age':33, 'Occupation':'Technician','Marital':'Married'}\n",
    "for key in person.keys():\n",
    "    print('{}: {}'.format(key, person[key]))\n",
    "print()\n",
    "for value in person.values():\n",
    "    print(value)\n",
    "print()\n",
    "for key, value in person.items():\n",
    "    print('{} - {}'.format(key, value))"
   ]
  },
  {
   "cell_type": "code",
   "execution_count": 19,
   "metadata": {},
   "outputs": [
    {
     "name": "stdout",
     "output_type": "stream",
     "text": [
      "Name: Brian\n",
      "Address: Nairobi\n",
      "Box: 00200\n"
     ]
    }
   ],
   "source": [
    "Name = input('What is your name?')\n",
    "Address = input('What is your address?')\n",
    "Number = input('What is your box number?')\n",
    "details = {}\n",
    "details['Name'] = Name\n",
    "details['Address'] = Address\n",
    "details['Box'] = Number\n",
    "for key in details.keys():\n",
    "    print('{}: {}'.format(key, details[key]))"
   ]
  },
  {
   "cell_type": "code",
   "execution_count": 1,
   "metadata": {},
   "outputs": [
    {
     "name": "stdout",
     "output_type": "stream",
     "text": [
      "[2, 3, 4, 5, 6]\n"
     ]
    }
   ],
   "source": [
    "nums = [2,4,3,3,5,6,4,2,3,6]\n",
    "nums = list(set(nums))\n",
    "print(nums)"
   ]
  },
  {
   "cell_type": "code",
   "execution_count": 21,
   "metadata": {},
   "outputs": [
    {
     "name": "stdout",
     "output_type": "stream",
     "text": [
      "This is for practice\n"
     ]
    }
   ],
   "source": [
    "#Text files\n",
    "f = open('practice.txt','w+')\n",
    "f.write('This is for practice')\n",
    "f.close()\n",
    "f = open('practice.txt','r')\n",
    "data = f.read()\n",
    "f.close()\n",
    "print(data)"
   ]
  },
  {
   "cell_type": "code",
   "execution_count": null,
   "metadata": {},
   "outputs": [],
   "source": []
  },
  {
   "cell_type": "code",
   "execution_count": 2,
   "metadata": {},
   "outputs": [
    {
     "name": "stdout",
     "output_type": "stream",
     "text": [
      "Feel it coming in the air\n",
      "And the screams from everywhere\n",
      "I am addicted to the pain\n",
      "Walking tall against terrain\n",
      "Only thing that is on my mind\n",
      "Is who is gonna run this town tonight\n"
     ]
    }
   ],
   "source": [
    "g = open('Lyrics.txt','w+')\n",
    "g.write('Feel it coming in the air\\nAnd the screams from everywhere\\nI am addicted to the pain\\nWalking tall against terrain\\nOnly thing that is on my mind\\nIs who is gonna run this town tonight')\n",
    "g.close()\n",
    "g = open('Lyrics.txt','r')\n",
    "data = g.read()\n",
    "g.close()\n",
    "print(data)"
   ]
  },
  {
   "cell_type": "code",
   "execution_count": null,
   "metadata": {},
   "outputs": [],
   "source": []
  },
  {
   "cell_type": "code",
   "execution_count": 2,
   "metadata": {},
   "outputs": [],
   "source": [
    "#csv files\n",
    "import csv\n",
    "with open('practice.csv',mode='w',newline=\"\") as f:\n",
    "    writer = csv.writer(f, delimiter = \",\")\n",
    "    writer.writerow([\"Name\",\"City\"])\n",
    "    writer.writerow(['Brian','Nairobi'])\n",
    "row = [\"Brian\",\"Kitale\"]\n",
    "with open('practice.csv', mode = 'r') as f:\n",
    "    reader = csv.reader(f, delimiter=',')\n",
    "    lines = list(reader)\n",
    "    for i in range(len(lines)):\n",
    "        if lines[i] == [\"Brian\",\"Nairobi\"]:\n",
    "            lines[i] = row\n",
    "with open('practice.csv', mode = 'w',newline=\"\") as f:\n",
    "    writer = csv.writer(f, delimiter = \",\")\n",
    "    writer.writerows(lines)"
   ]
  },
  {
   "cell_type": "code",
   "execution_count": 4,
   "metadata": {},
   "outputs": [
    {
     "name": "stdout",
     "output_type": "stream",
     "text": [
      "['Name', 'Language']\n",
      "['Dave', 'Python']\n",
      "['Dennis', 'C']\n",
      "['Peter', 'Java']\n",
      "['Jess', 'Python']\n"
     ]
    }
   ],
   "source": [
    "import csv\n",
    "data = {\n",
    "'name' : ['Dave', 'Dennis', 'Peter', 'Jess'],\n",
    "'language': ['Python', 'C', 'Java', 'Python']\n",
    "}\n",
    "with open('data.csv',mode='w',newline=\"\") as d:\n",
    "    writer = csv.writer(d, delimiter = ',')\n",
    "    writer.writerow(['Name','Language'])\n",
    "    for i in range(len(data['name'])):\n",
    "        writer.writerow([data['name'][i],data['language'][i]])\n",
    "\n",
    "with open('data.csv',mode='r') as d:\n",
    "    reader = csv.reader(d, delimiter = ',')\n",
    "    for row in reader:\n",
    "        print(row)"
   ]
  },
  {
   "cell_type": "markdown",
   "metadata": {},
   "source": [
    "Creating a Database user system with csv files"
   ]
  },
  {
   "cell_type": "code",
   "execution_count": 7,
   "metadata": {},
   "outputs": [
    {
     "name": "stdout",
     "output_type": "stream",
     "text": [
      "Thanks for using our software!\n"
     ]
    }
   ],
   "source": [
    "import csv\n",
    "from IPython.display import clear_output\n",
    "#user registration\n",
    "def registerUser():\n",
    "    with open('users.csv',mode = 'a',newline=\"\") as f:\n",
    "        writer = csv.writer(f, delimiter = ',')\n",
    "        print('To register, please enter your info: ')\n",
    "        email = input('E-mail: ')\n",
    "        password = input('Password: ')\n",
    "        password2 = input('Re-type password: ')\n",
    "        clear_output()\n",
    "        if password == password2:\n",
    "            writer.writerow([email, password])\n",
    "            print('You are now registered!')\n",
    "        else:\n",
    "            print('Something went wrong. Try again')\n",
    "        f.close()\n",
    "def changePassword():\n",
    "    print('To change your password: ')\n",
    "    email = input('Enter E-mail: ')\n",
    "    pw0 = input('Enter Old Password: ')\n",
    "    pw = input('Enter New password: ')\n",
    "    pw1 = input('Confirm New password: ')\n",
    "    if pw == pw1:\n",
    "        row = [email, pw]\n",
    "    with open('users.csv', mode = 'r') as readFile:\n",
    "        reader = csv.reader(readFile, delimiter = \",\")\n",
    "        data = list(reader)\n",
    "        for i in range(len(data)):\n",
    "            if data[i] == [email, pw0]:\n",
    "                data[i] = row\n",
    "        readFile.close()\n",
    "    with open('users.csv', mode = 'w',newline = \"\") as writeFile:\n",
    "        writer = csv.writer(writeFile, delimiter = \",\")\n",
    "        writer.writerows(data)  \n",
    "        writeFile.close()  \n",
    "def loginUser():\n",
    "    print('To log in please enter your info:')\n",
    "    email = input('E-mail: ')\n",
    "    password = input('Password: ')\n",
    "    clear_output()\n",
    "    with open('users.csv', mode = 'r') as f:\n",
    "        reader = csv.reader(f, delimiter = ',')\n",
    "        for row in reader:\n",
    "            if row == [email, password]:\n",
    "                print('You are now logged in!')\n",
    "                return True\n",
    "        f.close()\n",
    "    print('Something went wrong. Try again')\n",
    "    return False\n",
    "active = True\n",
    "logged_in  = False\n",
    "\n",
    "while active:\n",
    "    if logged_in:\n",
    "        print('1. Logout\\n2. Change Password\\n3. Quit')\n",
    "    else:\n",
    "        print('1. Login\\n2. Register\\n3. Quit')\n",
    "    choice = input('What would you like to do?').lower()\n",
    "    clear_output()\n",
    "    if choice == 'register' and logged_in == False:\n",
    "        registerUser()\n",
    "    elif choice == 'login' and logged_in == False:\n",
    "        logged_in  = loginUser()\n",
    "    elif choice == 'change password' and logged_in == True:\n",
    "        changePassword()\n",
    "        print('Your password has been updated!')           \n",
    "    elif choice == 'logout' and logged_in == True:\n",
    "        logged_in = False\n",
    "        print('You are now logged out')\n",
    "    elif choice == 'quit':\n",
    "        active = False\n",
    "        print('Thanks for using our software!')\n",
    "    else:\n",
    "        print('Sorry, Please Try again!')"
   ]
  },
  {
   "cell_type": "code",
   "execution_count": 8,
   "metadata": {},
   "outputs": [
    {
     "name": "stdout",
     "output_type": "stream",
     "text": [
      "['Favorite Food', 'No of votes']\n",
      "['Ngwashe', '3']\n",
      "['Muthokoi', '1']\n",
      "['Mango', '2']\n",
      "['Chapati', '2']\n",
      "['Mokimo', '3']\n",
      "['Ugali', '3']\n",
      "['Apple', '3']\n"
     ]
    }
   ],
   "source": [
    "import csv\n",
    "fav_food = []\n",
    "food = input(\"What is your favorite food? or type quit\").lower()\n",
    "active = False\n",
    "while not active:\n",
    "    if food != 'quit':\n",
    "        fav_food.append(food)\n",
    "        food = input(\"What is your favorite food? or type quit\").lower()\n",
    "    else:\n",
    "        active = True\n",
    "food_list = list(set(fav_food))\n",
    "with open(\"Favorite_food.csv\", mode = 'w', newline = \"\") as f:\n",
    "    writer = csv.writer(f, delimiter=\",\")\n",
    "    writer.writerow([\"Favorite Food\",\"No of votes\"])\n",
    "    for i in range(len(food_list)):\n",
    "        writer.writerow([food_list[i].title(),fav_food.count(food_list[i])])\n",
    "    f.close()\n",
    "with open(\"Favorite_food.csv\", mode = \"r\") as f:\n",
    "    reader = csv.reader(f, delimiter=\",\")\n",
    "    for row in reader:\n",
    "        print(row)\n",
    "    f.close()"
   ]
  }
 ],
 "metadata": {
  "kernelspec": {
   "display_name": "Python 3.10.4 64-bit",
   "language": "python",
   "name": "python3"
  },
  "language_info": {
   "codemirror_mode": {
    "name": "ipython",
    "version": 3
   },
   "file_extension": ".py",
   "mimetype": "text/x-python",
   "name": "python",
   "nbconvert_exporter": "python",
   "pygments_lexer": "ipython3",
   "version": "3.10.4"
  },
  "vscode": {
   "interpreter": {
    "hash": "31f2aee4e71d21fbe5cf8b01ff0e069b9275f58929596ceb00d14d90e3e16cd6"
   }
  }
 },
 "nbformat": 4,
 "nbformat_minor": 2
}
