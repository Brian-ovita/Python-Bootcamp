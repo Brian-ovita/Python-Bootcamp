{
 "cells": [
  {
   "cell_type": "code",
   "execution_count": 2,
   "metadata": {},
   "outputs": [
    {
     "name": "stdout",
     "output_type": "stream",
     "text": [
      "<Response [200]>\n",
      "<class 'requests.models.Response'>\n",
      "b'{\"login\":\"Connor-SM\",\"id\":20958711,\"node_id\":\"MDQ6VXNlcjIwOTU4NzEx\",\"avatar_url\":\"https://avatars.githubusercontent.com/u/20958711?v=4\",\"gravatar_id\":\"\",\"url\":\"https://api.github.com/users/Connor-SM\",\"html_url\":\"https://github.com/Connor-SM\",\"followers_url\":\"https://api.github.com/users/Connor-SM/followers\",\"following_url\":\"https://api.github.com/users/Connor-SM/following{/other_user}\",\"gists_url\":\"https://api.github.com/users/Connor-SM/gists{/gist_id}\",\"starred_url\":\"https://api.github.com/users/Connor-SM/starred{/owner}{/repo}\",\"subscriptions_url\":\"https://api.github.com/users/Connor-SM/subscriptions\",\"organizations_url\":\"https://api.github.com/users/Connor-SM/orgs\",\"repos_url\":\"https://api.github.com/users/Connor-SM/repos\",\"events_url\":\"https://api.github.com/users/Connor-SM/events{/privacy}\",\"received_events_url\":\"https://api.github.com/users/Connor-SM/received_events\",\"type\":\"User\",\"site_admin\":false,\"name\":\"Connor Milliken\",\"company\":\"HubSpot, Inc.\",\"blog\":\"www.connormilliken.com\",\"location\":\"Boston, MA\",\"email\":null,\"hireable\":null,\"bio\":\"- Author of Python Projects for Beginners\\\\r\\\\n\\\\r\\\\n- Python Instructor\\\\r\\\\n\\\\r\\\\n- Adventurer/Traveler\",\"twitter_username\":null,\"public_repos\":51,\"public_gists\":0,\"followers\":90,\"following\":36,\"created_at\":\"2016-08-10T22:39:46Z\",\"updated_at\":\"2021-12-09T00:06:38Z\"}'\n",
      "Key: login\tValue: Connor-SM\n",
      "Key: id\tValue: 20958711\n",
      "Key: node_id\tValue: MDQ6VXNlcjIwOTU4NzEx\n",
      "Key: avatar_url\tValue: https://avatars.githubusercontent.com/u/20958711?v=4\n",
      "Key: gravatar_id\tValue: \n",
      "Key: url\tValue: https://api.github.com/users/Connor-SM\n",
      "Key: html_url\tValue: https://github.com/Connor-SM\n",
      "Key: followers_url\tValue: https://api.github.com/users/Connor-SM/followers\n",
      "Key: following_url\tValue: https://api.github.com/users/Connor-SM/following{/other_user}\n",
      "Key: gists_url\tValue: https://api.github.com/users/Connor-SM/gists{/gist_id}\n",
      "Key: starred_url\tValue: https://api.github.com/users/Connor-SM/starred{/owner}{/repo}\n",
      "Key: subscriptions_url\tValue: https://api.github.com/users/Connor-SM/subscriptions\n",
      "Key: organizations_url\tValue: https://api.github.com/users/Connor-SM/orgs\n",
      "Key: repos_url\tValue: https://api.github.com/users/Connor-SM/repos\n",
      "Key: events_url\tValue: https://api.github.com/users/Connor-SM/events{/privacy}\n",
      "Key: received_events_url\tValue: https://api.github.com/users/Connor-SM/received_events\n",
      "Key: type\tValue: User\n",
      "Key: site_admin\tValue: False\n",
      "Key: name\tValue: Connor Milliken\n",
      "Key: company\tValue: HubSpot, Inc.\n",
      "Key: blog\tValue: www.connormilliken.com\n",
      "Key: location\tValue: Boston, MA\n",
      "Key: email\tValue: None\n",
      "Key: hireable\tValue: None\n",
      "Key: bio\tValue: - Author of Python Projects for Beginners\n",
      "\n",
      "- Python Instructor\n",
      "\n",
      "- Adventurer/Traveler\n",
      "Key: twitter_username\tValue: None\n",
      "Key: public_repos\tValue: 51\n",
      "Key: public_gists\tValue: 0\n",
      "Key: followers\tValue: 90\n",
      "Key: following\tValue: 36\n",
      "Key: created_at\tValue: 2016-08-10T22:39:46Z\n",
      "Key: updated_at\tValue: 2021-12-09T00:06:38Z\n",
      "Connor Milliken\n"
     ]
    }
   ],
   "source": [
    "import requests\n",
    "r = requests.get(\"http://api.github.com/users/Connor-SM\")\n",
    "print(r)\n",
    "print(type(r))\n",
    "\n",
    "data = r.content\n",
    "print(data)\n",
    "\n",
    "data = r.json()\n",
    "for k, v in data.items():\n",
    "    print(f\"Key: {k}\\tValue: {v}\")\n",
    "print(data[\"name\"])"
   ]
  }
 ],
 "metadata": {
  "interpreter": {
   "hash": "5d240ba0dc525c389faa33f5dcce5b4f32b6d6aa6d70d6d2dd929bd2b09ab69f"
  },
  "kernelspec": {
   "display_name": "Python 3.10.0 64-bit",
   "language": "python",
   "name": "python3"
  },
  "language_info": {
   "codemirror_mode": {
    "name": "ipython",
    "version": 3
   },
   "file_extension": ".py",
   "mimetype": "text/x-python",
   "name": "python",
   "nbconvert_exporter": "python",
   "pygments_lexer": "ipython3",
   "version": "3.10.0"
  },
  "orig_nbformat": 4
 },
 "nbformat": 4,
 "nbformat_minor": 2
}
