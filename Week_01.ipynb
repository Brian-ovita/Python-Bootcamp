{
 "cells": [
  {
   "cell_type": "code",
   "execution_count": 1,
   "metadata": {},
   "outputs": [
    {
     "name": "stdout",
     "output_type": "stream",
     "text": [
      "Hello, Buddy!\n"
     ]
    }
   ],
   "source": [
    "print('Hello, Buddy!')"
   ]
  },
  {
   "cell_type": "markdown",
   "metadata": {},
   "source": [
    "The Guessing Game"
   ]
  },
  {
   "cell_type": "code",
   "execution_count": 2,
   "metadata": {},
   "outputs": [
    {
     "name": "stdout",
     "output_type": "stream",
     "text": [
      "Congrats! you guessed it correctly\n",
      "It took you 9 guesses\n"
     ]
    }
   ],
   "source": [
    "from random import randint\n",
    "from IPython.display import clear_output\n",
    "guessed = False\n",
    "number = randint(0,100)\n",
    "guesses = 0\n",
    "while not guessed:\n",
    "    ans  = input('Try to guess the number i am thinking of: ')\n",
    "    guesses+=1\n",
    "    clear_output()\n",
    "    if int(ans)==number:\n",
    "        print('Congrats! you guessed it correctly')\n",
    "        print('It took you {} guesses'.format(guesses))\n",
    "        break\n",
    "    elif int(ans) > number:\n",
    "        print('The number you guessed is greater than the my number')\n",
    "    elif int(ans) < number:\n",
    "        print('The number you guessed is lower than the my number')\n",
    "    else:\n",
    "        print('Error! Not a number submitted')"
   ]
  }
 ],
 "metadata": {
  "kernelspec": {
   "display_name": "Python 3.10.4 64-bit",
   "language": "python",
   "name": "python3"
  },
  "language_info": {
   "codemirror_mode": {
    "name": "ipython",
    "version": 3
   },
   "file_extension": ".py",
   "mimetype": "text/x-python",
   "name": "python",
   "nbconvert_exporter": "python",
   "pygments_lexer": "ipython3",
   "version": "3.10.4"
  },
  "orig_nbformat": 4,
  "vscode": {
   "interpreter": {
    "hash": "916dbcbb3f70747c44a77c7bcd40155683ae19c65e1c03b4aa3499c5328201f1"
   }
  }
 },
 "nbformat": 4,
 "nbformat_minor": 2
}
